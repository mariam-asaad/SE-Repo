{
  "cells": [
    {
      "cell_type": "markdown",
      "metadata": {
        "id": "view-in-github",
        "colab_type": "text"
      },
      "source": [
        "<a href=\"https://colab.research.google.com/github/mariam-asaad/SE-Repo/blob/main/Copy_of_Regression_Mini_Project.ipynb\" target=\"_parent\"><img src=\"https://colab.research.google.com/assets/colab-badge.svg\" alt=\"Open In Colab\"/></a>"
      ]
    },
    {
      "cell_type": "markdown",
      "metadata": {
        "id": "61Yyp7Ip2OOj"
      },
      "source": [
        "# Linear Regression - Mini-Project 1\n"
      ]
    },
    {
      "cell_type": "markdown",
      "metadata": {
        "id": "vcN9fIwi2OOo"
      },
      "source": [
        "***Edit this cell with your name(s), tutorial number(s) and ID(s)***\n",
        "\n",
        "---\n",
        "\n",
        "Name: Nagham Khaled ID: 49-0888, Tutorial:T-06\n",
        "\n",
        "---\n",
        "\n",
        "Name: Mariam Asaad, ID:49-0356, Tutorial:T-06\n",
        "\n",
        "---\n"
      ]
    },
    {
      "cell_type": "markdown",
      "metadata": {
        "id": "VaZL0mJr2OOp"
      },
      "source": [
        "## Dataset Description\n",
        "\n",
        "The dataset contains historical car auction sales prices, scraped from the outside internet sources and collected in 2015.\n",
        "\n",
        "Each row represents a sale at a used car auction. Each column is described below.\n",
        "\n",
        "| Column       | Description                                                                                          |\n",
        "| ------------ | ---------------------------------------------------------------------------------------------------- |\n",
        "| year         | Car's year of production                                                                             |\n",
        "| make         | Car make/brand                                                                                       |\n",
        "| model        | Car model                                                                                            |\n",
        "| trim         | Car's trim or grade, which specifies a car model's level of performance, features, options or extras |\n",
        "| body         | Car body type (e.g. Sedan, SUV, Coupe, etc.)                                                         |\n",
        "| transmission | Car transmission type. The mechanism that moves the power from the engine to the wheels.             |\n",
        "| vin          | Vehicle Identification Number, a unique code to identify individual motor vehicles.                  |\n",
        "| state        | The state in which the car was auctioned.                                                            |\n",
        "| condition    | The condition of the cars being at the time of auction, 5 being the best score and 1 being the worst.|\n",
        "| odometer     | The distance traveled by a vehicle since being manufactured, in miles                                |\n",
        "| color        | Exterior color of the car                                                                            |\n",
        "| interior     | Interior color of the car                                                                            |\n",
        "| seller       | The seller of the car or car dealer                                                                  |\n",
        "| mmr          | Manheim\\* Market Report, the market estimated price of the cars. An indicator of wholesale prices.   |\n",
        "| sellingprice | The price a car was sold at in auction.                                                              |\n",
        "| saledate     | The date on which the car has been sold.                                                             |\n",
        "\n",
        "\\*Manheim is a company established in 1945 as a car auction company. It has grown to a very reputable company in the industry and its MMR estimate is a baseline tool for wholesale car price determination. They base their price calculations on over 10 million transaction over the past 13-month period.\n"
      ]
    },
    {
      "cell_type": "markdown",
      "metadata": {
        "id": "aqsX6ALN2OOr"
      },
      "source": [
        "## Importing Libraries \\& Dataset\n"
      ]
    },
    {
      "cell_type": "code",
      "execution_count": null,
      "metadata": {
        "id": "-_4wfAU-2OOr",
        "outputId": "fd79efa7-f99e-4867-8f98-6e8bbf7fa0ad",
        "colab": {
          "base_uri": "https://localhost:8080/",
          "height": 424
        }
      },
      "outputs": [
        {
          "output_type": "execute_result",
          "data": {
            "text/plain": [
              "   year     make         model   trim          body transmission  \\\n",
              "0  2013  Hyundai        Sonata    GLS         sedan    automatic   \n",
              "1  2014   Toyota       4Runner    SR5           SUV    automatic   \n",
              "2  2012    Lexus        IS 250   Base         Sedan    automatic   \n",
              "3  2002      BMW            X5   4.4i           SUV    automatic   \n",
              "4  2014     Ford  E-Series Van  E-250  E-Series Van    automatic   \n",
              "\n",
              "                 vin state  condition    odometer   color interior  \\\n",
              "0  5npeb4acxdh702805    ma        3.9   50404.0mi   black     gray   \n",
              "1  jtezu5jr2e5064567    fl        4.9   17846.0mi    gray        —   \n",
              "2  jthbf5c24c5168599    fl        4.1   21122.0mi  silver    black   \n",
              "3  5uxfb33562lh33864    fl        1.9  145303.0mi   black    black   \n",
              "4  1ftne2ew0eda31832    wa        4.9    6714.0mi   white     gray   \n",
              "\n",
              "                             seller     mmr sellingprice  \\\n",
              "0             the hertz corporation  $11000       $10900   \n",
              "1  award auto sales and leasing inc  $28700       $29900   \n",
              "2          lexus financial services  $22200       $24200   \n",
              "3                        peddle llc   $3675        $3200   \n",
              "4                            u-haul  $22500       $22100   \n",
              "\n",
              "                                  saledate  \n",
              "0  Tue Jun 02 2015 02:30:00 GMT-0700 (PDT)  \n",
              "1  Wed Feb 18 2015 07:15:00 GMT-0800 (PST)  \n",
              "2  Tue Jan 20 2015 01:30:00 GMT-0800 (PST)  \n",
              "3  Wed Mar 04 2015 07:10:00 GMT-0800 (PST)  \n",
              "4  Wed Feb 18 2015 06:45:00 GMT-0800 (PST)  "
            ],
            "text/html": [
              "\n",
              "  <div id=\"df-2729ea8d-92ac-4fad-a758-aacba413bece\">\n",
              "    <div class=\"colab-df-container\">\n",
              "      <div>\n",
              "<style scoped>\n",
              "    .dataframe tbody tr th:only-of-type {\n",
              "        vertical-align: middle;\n",
              "    }\n",
              "\n",
              "    .dataframe tbody tr th {\n",
              "        vertical-align: top;\n",
              "    }\n",
              "\n",
              "    .dataframe thead th {\n",
              "        text-align: right;\n",
              "    }\n",
              "</style>\n",
              "<table border=\"1\" class=\"dataframe\">\n",
              "  <thead>\n",
              "    <tr style=\"text-align: right;\">\n",
              "      <th></th>\n",
              "      <th>year</th>\n",
              "      <th>make</th>\n",
              "      <th>model</th>\n",
              "      <th>trim</th>\n",
              "      <th>body</th>\n",
              "      <th>transmission</th>\n",
              "      <th>vin</th>\n",
              "      <th>state</th>\n",
              "      <th>condition</th>\n",
              "      <th>odometer</th>\n",
              "      <th>color</th>\n",
              "      <th>interior</th>\n",
              "      <th>seller</th>\n",
              "      <th>mmr</th>\n",
              "      <th>sellingprice</th>\n",
              "      <th>saledate</th>\n",
              "    </tr>\n",
              "  </thead>\n",
              "  <tbody>\n",
              "    <tr>\n",
              "      <th>0</th>\n",
              "      <td>2013</td>\n",
              "      <td>Hyundai</td>\n",
              "      <td>Sonata</td>\n",
              "      <td>GLS</td>\n",
              "      <td>sedan</td>\n",
              "      <td>automatic</td>\n",
              "      <td>5npeb4acxdh702805</td>\n",
              "      <td>ma</td>\n",
              "      <td>3.9</td>\n",
              "      <td>50404.0mi</td>\n",
              "      <td>black</td>\n",
              "      <td>gray</td>\n",
              "      <td>the hertz corporation</td>\n",
              "      <td>$11000</td>\n",
              "      <td>$10900</td>\n",
              "      <td>Tue Jun 02 2015 02:30:00 GMT-0700 (PDT)</td>\n",
              "    </tr>\n",
              "    <tr>\n",
              "      <th>1</th>\n",
              "      <td>2014</td>\n",
              "      <td>Toyota</td>\n",
              "      <td>4Runner</td>\n",
              "      <td>SR5</td>\n",
              "      <td>SUV</td>\n",
              "      <td>automatic</td>\n",
              "      <td>jtezu5jr2e5064567</td>\n",
              "      <td>fl</td>\n",
              "      <td>4.9</td>\n",
              "      <td>17846.0mi</td>\n",
              "      <td>gray</td>\n",
              "      <td>—</td>\n",
              "      <td>award auto sales and leasing inc</td>\n",
              "      <td>$28700</td>\n",
              "      <td>$29900</td>\n",
              "      <td>Wed Feb 18 2015 07:15:00 GMT-0800 (PST)</td>\n",
              "    </tr>\n",
              "    <tr>\n",
              "      <th>2</th>\n",
              "      <td>2012</td>\n",
              "      <td>Lexus</td>\n",
              "      <td>IS 250</td>\n",
              "      <td>Base</td>\n",
              "      <td>Sedan</td>\n",
              "      <td>automatic</td>\n",
              "      <td>jthbf5c24c5168599</td>\n",
              "      <td>fl</td>\n",
              "      <td>4.1</td>\n",
              "      <td>21122.0mi</td>\n",
              "      <td>silver</td>\n",
              "      <td>black</td>\n",
              "      <td>lexus financial services</td>\n",
              "      <td>$22200</td>\n",
              "      <td>$24200</td>\n",
              "      <td>Tue Jan 20 2015 01:30:00 GMT-0800 (PST)</td>\n",
              "    </tr>\n",
              "    <tr>\n",
              "      <th>3</th>\n",
              "      <td>2002</td>\n",
              "      <td>BMW</td>\n",
              "      <td>X5</td>\n",
              "      <td>4.4i</td>\n",
              "      <td>SUV</td>\n",
              "      <td>automatic</td>\n",
              "      <td>5uxfb33562lh33864</td>\n",
              "      <td>fl</td>\n",
              "      <td>1.9</td>\n",
              "      <td>145303.0mi</td>\n",
              "      <td>black</td>\n",
              "      <td>black</td>\n",
              "      <td>peddle llc</td>\n",
              "      <td>$3675</td>\n",
              "      <td>$3200</td>\n",
              "      <td>Wed Mar 04 2015 07:10:00 GMT-0800 (PST)</td>\n",
              "    </tr>\n",
              "    <tr>\n",
              "      <th>4</th>\n",
              "      <td>2014</td>\n",
              "      <td>Ford</td>\n",
              "      <td>E-Series Van</td>\n",
              "      <td>E-250</td>\n",
              "      <td>E-Series Van</td>\n",
              "      <td>automatic</td>\n",
              "      <td>1ftne2ew0eda31832</td>\n",
              "      <td>wa</td>\n",
              "      <td>4.9</td>\n",
              "      <td>6714.0mi</td>\n",
              "      <td>white</td>\n",
              "      <td>gray</td>\n",
              "      <td>u-haul</td>\n",
              "      <td>$22500</td>\n",
              "      <td>$22100</td>\n",
              "      <td>Wed Feb 18 2015 06:45:00 GMT-0800 (PST)</td>\n",
              "    </tr>\n",
              "  </tbody>\n",
              "</table>\n",
              "</div>\n",
              "      <button class=\"colab-df-convert\" onclick=\"convertToInteractive('df-2729ea8d-92ac-4fad-a758-aacba413bece')\"\n",
              "              title=\"Convert this dataframe to an interactive table.\"\n",
              "              style=\"display:none;\">\n",
              "        \n",
              "  <svg xmlns=\"http://www.w3.org/2000/svg\" height=\"24px\"viewBox=\"0 0 24 24\"\n",
              "       width=\"24px\">\n",
              "    <path d=\"M0 0h24v24H0V0z\" fill=\"none\"/>\n",
              "    <path d=\"M18.56 5.44l.94 2.06.94-2.06 2.06-.94-2.06-.94-.94-2.06-.94 2.06-2.06.94zm-11 1L8.5 8.5l.94-2.06 2.06-.94-2.06-.94L8.5 2.5l-.94 2.06-2.06.94zm10 10l.94 2.06.94-2.06 2.06-.94-2.06-.94-.94-2.06-.94 2.06-2.06.94z\"/><path d=\"M17.41 7.96l-1.37-1.37c-.4-.4-.92-.59-1.43-.59-.52 0-1.04.2-1.43.59L10.3 9.45l-7.72 7.72c-.78.78-.78 2.05 0 2.83L4 21.41c.39.39.9.59 1.41.59.51 0 1.02-.2 1.41-.59l7.78-7.78 2.81-2.81c.8-.78.8-2.07 0-2.86zM5.41 20L4 18.59l7.72-7.72 1.47 1.35L5.41 20z\"/>\n",
              "  </svg>\n",
              "      </button>\n",
              "      \n",
              "  <style>\n",
              "    .colab-df-container {\n",
              "      display:flex;\n",
              "      flex-wrap:wrap;\n",
              "      gap: 12px;\n",
              "    }\n",
              "\n",
              "    .colab-df-convert {\n",
              "      background-color: #E8F0FE;\n",
              "      border: none;\n",
              "      border-radius: 50%;\n",
              "      cursor: pointer;\n",
              "      display: none;\n",
              "      fill: #1967D2;\n",
              "      height: 32px;\n",
              "      padding: 0 0 0 0;\n",
              "      width: 32px;\n",
              "    }\n",
              "\n",
              "    .colab-df-convert:hover {\n",
              "      background-color: #E2EBFA;\n",
              "      box-shadow: 0px 1px 2px rgba(60, 64, 67, 0.3), 0px 1px 3px 1px rgba(60, 64, 67, 0.15);\n",
              "      fill: #174EA6;\n",
              "    }\n",
              "\n",
              "    [theme=dark] .colab-df-convert {\n",
              "      background-color: #3B4455;\n",
              "      fill: #D2E3FC;\n",
              "    }\n",
              "\n",
              "    [theme=dark] .colab-df-convert:hover {\n",
              "      background-color: #434B5C;\n",
              "      box-shadow: 0px 1px 3px 1px rgba(0, 0, 0, 0.15);\n",
              "      filter: drop-shadow(0px 1px 2px rgba(0, 0, 0, 0.3));\n",
              "      fill: #FFFFFF;\n",
              "    }\n",
              "  </style>\n",
              "\n",
              "      <script>\n",
              "        const buttonEl =\n",
              "          document.querySelector('#df-2729ea8d-92ac-4fad-a758-aacba413bece button.colab-df-convert');\n",
              "        buttonEl.style.display =\n",
              "          google.colab.kernel.accessAllowed ? 'block' : 'none';\n",
              "\n",
              "        async function convertToInteractive(key) {\n",
              "          const element = document.querySelector('#df-2729ea8d-92ac-4fad-a758-aacba413bece');\n",
              "          const dataTable =\n",
              "            await google.colab.kernel.invokeFunction('convertToInteractive',\n",
              "                                                     [key], {});\n",
              "          if (!dataTable) return;\n",
              "\n",
              "          const docLinkHtml = 'Like what you see? Visit the ' +\n",
              "            '<a target=\"_blank\" href=https://colab.research.google.com/notebooks/data_table.ipynb>data table notebook</a>'\n",
              "            + ' to learn more about interactive tables.';\n",
              "          element.innerHTML = '';\n",
              "          dataTable['output_type'] = 'display_data';\n",
              "          await google.colab.output.renderOutput(dataTable, element);\n",
              "          const docLink = document.createElement('div');\n",
              "          docLink.innerHTML = docLinkHtml;\n",
              "          element.appendChild(docLink);\n",
              "        }\n",
              "      </script>\n",
              "    </div>\n",
              "  </div>\n",
              "  "
            ]
          },
          "metadata": {},
          "execution_count": 2
        }
      ],
      "source": [
        "#importing all the libraries and the dataset\n",
        "import pandas as pd\n",
        "import numpy as np\n",
        "import matplotlib.pyplot as plt\n",
        "import seaborn as sns\n",
        "\n",
        "%matplotlib inline\n",
        "plt.style.use(\"seaborn\")\n",
        "\n",
        "try:\n",
        "    df = pd.read_csv('car_prices.csv')\n",
        "except:\n",
        "    df = pd.read_csv('https://raw.githubusercontent.com/GUC-DM/W2022/main/data/car_prices.csv')\n",
        "\n",
        "df.head()"
      ]
    },
    {
      "cell_type": "markdown",
      "metadata": {
        "id": "EGqcPuVR2OOt"
      },
      "source": [
        "## Data Inspection\n",
        "\n",
        "Perform data inspection tasks here (recommended for data understanding)."
      ]
    },
    {
      "cell_type": "code",
      "execution_count": null,
      "metadata": {
        "id": "yiUqL4oN2OOt",
        "outputId": "f34b3baa-829f-43c2-fab6-dd0b244d3aa8",
        "colab": {
          "base_uri": "https://localhost:8080/",
          "height": 300
        }
      },
      "outputs": [
        {
          "output_type": "execute_result",
          "data": {
            "text/plain": [
              "               year     condition\n",
              "count  46578.000000  46578.000000\n",
              "mean    2010.203401      3.424265\n",
              "std        3.831316      0.944009\n",
              "min     1990.000000      1.000000\n",
              "25%     2008.000000      2.700000\n",
              "50%     2012.000000      3.600000\n",
              "75%     2013.000000      4.200000\n",
              "max     2015.000000      5.000000"
            ],
            "text/html": [
              "\n",
              "  <div id=\"df-33ba4297-80b6-4c05-a164-d36d526d147e\">\n",
              "    <div class=\"colab-df-container\">\n",
              "      <div>\n",
              "<style scoped>\n",
              "    .dataframe tbody tr th:only-of-type {\n",
              "        vertical-align: middle;\n",
              "    }\n",
              "\n",
              "    .dataframe tbody tr th {\n",
              "        vertical-align: top;\n",
              "    }\n",
              "\n",
              "    .dataframe thead th {\n",
              "        text-align: right;\n",
              "    }\n",
              "</style>\n",
              "<table border=\"1\" class=\"dataframe\">\n",
              "  <thead>\n",
              "    <tr style=\"text-align: right;\">\n",
              "      <th></th>\n",
              "      <th>year</th>\n",
              "      <th>condition</th>\n",
              "    </tr>\n",
              "  </thead>\n",
              "  <tbody>\n",
              "    <tr>\n",
              "      <th>count</th>\n",
              "      <td>46578.000000</td>\n",
              "      <td>46578.000000</td>\n",
              "    </tr>\n",
              "    <tr>\n",
              "      <th>mean</th>\n",
              "      <td>2010.203401</td>\n",
              "      <td>3.424265</td>\n",
              "    </tr>\n",
              "    <tr>\n",
              "      <th>std</th>\n",
              "      <td>3.831316</td>\n",
              "      <td>0.944009</td>\n",
              "    </tr>\n",
              "    <tr>\n",
              "      <th>min</th>\n",
              "      <td>1990.000000</td>\n",
              "      <td>1.000000</td>\n",
              "    </tr>\n",
              "    <tr>\n",
              "      <th>25%</th>\n",
              "      <td>2008.000000</td>\n",
              "      <td>2.700000</td>\n",
              "    </tr>\n",
              "    <tr>\n",
              "      <th>50%</th>\n",
              "      <td>2012.000000</td>\n",
              "      <td>3.600000</td>\n",
              "    </tr>\n",
              "    <tr>\n",
              "      <th>75%</th>\n",
              "      <td>2013.000000</td>\n",
              "      <td>4.200000</td>\n",
              "    </tr>\n",
              "    <tr>\n",
              "      <th>max</th>\n",
              "      <td>2015.000000</td>\n",
              "      <td>5.000000</td>\n",
              "    </tr>\n",
              "  </tbody>\n",
              "</table>\n",
              "</div>\n",
              "      <button class=\"colab-df-convert\" onclick=\"convertToInteractive('df-33ba4297-80b6-4c05-a164-d36d526d147e')\"\n",
              "              title=\"Convert this dataframe to an interactive table.\"\n",
              "              style=\"display:none;\">\n",
              "        \n",
              "  <svg xmlns=\"http://www.w3.org/2000/svg\" height=\"24px\"viewBox=\"0 0 24 24\"\n",
              "       width=\"24px\">\n",
              "    <path d=\"M0 0h24v24H0V0z\" fill=\"none\"/>\n",
              "    <path d=\"M18.56 5.44l.94 2.06.94-2.06 2.06-.94-2.06-.94-.94-2.06-.94 2.06-2.06.94zm-11 1L8.5 8.5l.94-2.06 2.06-.94-2.06-.94L8.5 2.5l-.94 2.06-2.06.94zm10 10l.94 2.06.94-2.06 2.06-.94-2.06-.94-.94-2.06-.94 2.06-2.06.94z\"/><path d=\"M17.41 7.96l-1.37-1.37c-.4-.4-.92-.59-1.43-.59-.52 0-1.04.2-1.43.59L10.3 9.45l-7.72 7.72c-.78.78-.78 2.05 0 2.83L4 21.41c.39.39.9.59 1.41.59.51 0 1.02-.2 1.41-.59l7.78-7.78 2.81-2.81c.8-.78.8-2.07 0-2.86zM5.41 20L4 18.59l7.72-7.72 1.47 1.35L5.41 20z\"/>\n",
              "  </svg>\n",
              "      </button>\n",
              "      \n",
              "  <style>\n",
              "    .colab-df-container {\n",
              "      display:flex;\n",
              "      flex-wrap:wrap;\n",
              "      gap: 12px;\n",
              "    }\n",
              "\n",
              "    .colab-df-convert {\n",
              "      background-color: #E8F0FE;\n",
              "      border: none;\n",
              "      border-radius: 50%;\n",
              "      cursor: pointer;\n",
              "      display: none;\n",
              "      fill: #1967D2;\n",
              "      height: 32px;\n",
              "      padding: 0 0 0 0;\n",
              "      width: 32px;\n",
              "    }\n",
              "\n",
              "    .colab-df-convert:hover {\n",
              "      background-color: #E2EBFA;\n",
              "      box-shadow: 0px 1px 2px rgba(60, 64, 67, 0.3), 0px 1px 3px 1px rgba(60, 64, 67, 0.15);\n",
              "      fill: #174EA6;\n",
              "    }\n",
              "\n",
              "    [theme=dark] .colab-df-convert {\n",
              "      background-color: #3B4455;\n",
              "      fill: #D2E3FC;\n",
              "    }\n",
              "\n",
              "    [theme=dark] .colab-df-convert:hover {\n",
              "      background-color: #434B5C;\n",
              "      box-shadow: 0px 1px 3px 1px rgba(0, 0, 0, 0.15);\n",
              "      filter: drop-shadow(0px 1px 2px rgba(0, 0, 0, 0.3));\n",
              "      fill: #FFFFFF;\n",
              "    }\n",
              "  </style>\n",
              "\n",
              "      <script>\n",
              "        const buttonEl =\n",
              "          document.querySelector('#df-33ba4297-80b6-4c05-a164-d36d526d147e button.colab-df-convert');\n",
              "        buttonEl.style.display =\n",
              "          google.colab.kernel.accessAllowed ? 'block' : 'none';\n",
              "\n",
              "        async function convertToInteractive(key) {\n",
              "          const element = document.querySelector('#df-33ba4297-80b6-4c05-a164-d36d526d147e');\n",
              "          const dataTable =\n",
              "            await google.colab.kernel.invokeFunction('convertToInteractive',\n",
              "                                                     [key], {});\n",
              "          if (!dataTable) return;\n",
              "\n",
              "          const docLinkHtml = 'Like what you see? Visit the ' +\n",
              "            '<a target=\"_blank\" href=https://colab.research.google.com/notebooks/data_table.ipynb>data table notebook</a>'\n",
              "            + ' to learn more about interactive tables.';\n",
              "          element.innerHTML = '';\n",
              "          dataTable['output_type'] = 'display_data';\n",
              "          await google.colab.output.renderOutput(dataTable, element);\n",
              "          const docLink = document.createElement('div');\n",
              "          docLink.innerHTML = docLinkHtml;\n",
              "          element.appendChild(docLink);\n",
              "        }\n",
              "      </script>\n",
              "    </div>\n",
              "  </div>\n",
              "  "
            ]
          },
          "metadata": {},
          "execution_count": 3
        }
      ],
      "source": [
        "# getting an overview about the dataset\n",
        "df.describe()"
      ]
    },
    {
      "cell_type": "code",
      "source": [
        "# getting an overview about the dataset\n",
        "df.info()"
      ],
      "metadata": {
        "id": "5tiFE_Zn204_",
        "outputId": "5da3c384-356e-406d-df46-e09765cfc67d",
        "colab": {
          "base_uri": "https://localhost:8080/"
        }
      },
      "execution_count": null,
      "outputs": [
        {
          "output_type": "stream",
          "name": "stdout",
          "text": [
            "<class 'pandas.core.frame.DataFrame'>\n",
            "RangeIndex: 46578 entries, 0 to 46577\n",
            "Data columns (total 16 columns):\n",
            " #   Column        Non-Null Count  Dtype  \n",
            "---  ------        --------------  -----  \n",
            " 0   year          46578 non-null  int64  \n",
            " 1   make          46578 non-null  object \n",
            " 2   model         46578 non-null  object \n",
            " 3   trim          46578 non-null  object \n",
            " 4   body          46578 non-null  object \n",
            " 5   transmission  46578 non-null  object \n",
            " 6   vin           46578 non-null  object \n",
            " 7   state         46578 non-null  object \n",
            " 8   condition     46578 non-null  float64\n",
            " 9   odometer      46578 non-null  object \n",
            " 10  color         46578 non-null  object \n",
            " 11  interior      46578 non-null  object \n",
            " 12  seller        46578 non-null  object \n",
            " 13  mmr           46578 non-null  object \n",
            " 14  sellingprice  46578 non-null  object \n",
            " 15  saledate      46578 non-null  object \n",
            "dtypes: float64(1), int64(1), object(14)\n",
            "memory usage: 5.7+ MB\n"
          ]
        }
      ]
    },
    {
      "cell_type": "code",
      "source": [
        "# checking the unique values in year, for duplicates and inconsistencies\n",
        "df['year'].unique()"
      ],
      "metadata": {
        "id": "n9-Cv5_H20kl",
        "outputId": "111bbab7-b9b9-4bc7-f1c7-bd9f7504f0c4",
        "colab": {
          "base_uri": "https://localhost:8080/"
        }
      },
      "execution_count": null,
      "outputs": [
        {
          "output_type": "execute_result",
          "data": {
            "text/plain": [
              "array([2013, 2014, 2012, 2002, 2007, 2008, 2011, 2015, 2010, 2005, 2006,\n",
              "       2009, 2004, 1998, 2001, 2003, 1996, 1997, 2000, 1999, 1995, 1991,\n",
              "       1990, 1994, 1993, 1992])"
            ]
          },
          "metadata": {},
          "execution_count": 5
        }
      ]
    },
    {
      "cell_type": "code",
      "source": [
        "# checking the unique values in make, for duplicates and inconsistencies\n",
        "df['make'].unique()"
      ],
      "metadata": {
        "id": "h9qm95ZE26WW",
        "outputId": "6198959a-2178-443c-8757-ff2da560f57e",
        "colab": {
          "base_uri": "https://localhost:8080/"
        }
      },
      "execution_count": null,
      "outputs": [
        {
          "output_type": "execute_result",
          "data": {
            "text/plain": [
              "array(['Hyundai', 'Toyota', 'Lexus', 'BMW', 'Ford', 'Kia', 'Chevrolet',\n",
              "       'Cadillac', 'Mercedes-Benz', 'Jeep', 'Infiniti', 'Lincoln',\n",
              "       'Mazda', 'Chrysler', 'GMC', 'Honda', 'Dodge', 'Audi', 'Nissan',\n",
              "       'Buick', 'MINI', 'Jaguar', 'Volvo', 'Mitsubishi', 'Volkswagen',\n",
              "       'Subaru', 'Porsche', 'Isuzu', 'Saturn', 'Pontiac', 'Scion',\n",
              "       'Acura', 'Ram', 'Land Rover', 'Suzuki', 'Mercury', 'HUMMER',\n",
              "       'Saab', 'Maserati', 'FIAT', 'Geo', 'smart', 'Oldsmobile', 'Fisker',\n",
              "       'Bentley', 'Plymouth', 'Ferrari', 'Aston Martin'], dtype=object)"
            ]
          },
          "metadata": {},
          "execution_count": 6
        }
      ]
    },
    {
      "cell_type": "code",
      "source": [
        "# checking the unique values in model, for duplicates and inconsistencies\n",
        "df['model'].unique()"
      ],
      "metadata": {
        "id": "xn5UVSkv26Oe",
        "outputId": "28506c04-7f3b-486c-cbdb-ce55de942b1c",
        "colab": {
          "base_uri": "https://localhost:8080/"
        }
      },
      "execution_count": null,
      "outputs": [
        {
          "output_type": "execute_result",
          "data": {
            "text/plain": [
              "array(['Sonata', '4Runner', 'IS 250', 'X5', 'E-Series Van', 'Optima',\n",
              "       'Avalanche', 'CTS', 'E-Class', 'Forte', 'Wrangler', 'G Sedan',\n",
              "       'MKS', 'Soul', 'Ranger', 'Mazda6', 'Tundra', 'PT Cruiser',\n",
              "       'Acadia', 'Mustang', 'Odyssey', 'X3', 'STS', 'F-150', 'Sienna',\n",
              "       'Liberty', 'DTS', 'Sebring', 'Nitro', 'Tacoma', 'Elantra', 'Q7',\n",
              "       'Maxima', 'Corvette', 'Grand Cherokee', 'FJ Cruiser', 'Fiesta',\n",
              "       'Genesis', 'Town and Country', 'F-350 Super Duty', 'Z4', 'Murano',\n",
              "       'Enclave', 'Altima', 'Sentra', 'R-Class', 'Sierra 1500', 'Cooper',\n",
              "       'XJ', 'Edge', 'Focus', 'Avenger', 'Civic', 'Escape', 'Camry',\n",
              "       'Encore', 'Accord', 'Sonic', 'Yukon', 'XF', 'Savana Cargo',\n",
              "       'Fusion', '200', 'Cruze', 'MKX', 'Stratus', 'S60', 'Taurus',\n",
              "       'Corolla', 'CR-V', 'Tucson', 'Charger', 'Lancer', 'Malibu',\n",
              "       'Mazda3', 'Jetta', 'Elantra GT', '3 Series', 'Leaf',\n",
              "       'Express Cargo', 'Outlander Sport', 'Venza', 'F-250 Super Duty',\n",
              "       'Versa', 'Rogue', 'Impreza WRX', 'Impala', 'Journey', 'Prius',\n",
              "       'Lucerne', 'Rio', 'TrailBlazer', 'Yaris', 'Econoline Cargo',\n",
              "       'Mirage', 'RAV4', 'Explorer', 'Cayman', '5 Series', 'Colorado',\n",
              "       'Ascender', 'Commander', 'ES 350', 'Xterra', '7 Series', 'ION',\n",
              "       'Escalade', 'G6', 'Cooper Coupe', 'Sorento', '300', 'tC', 'Volt',\n",
              "       'Durango', 'Terrain', 'Flex', 'Grand Caravan', 'Impala Limited',\n",
              "       'S-Class', 'Grand Prix', 'CX-5', 'K900', 'Matrix', 'SRX', 'TSX',\n",
              "       'Ram Pickup 1500', 'ES 300', '5 Series Gran Turismo', 'CLK-Class',\n",
              "       '2500', 'Frontier', 'MKZ', 'GS 350', 'G Convertible', 'Accent',\n",
              "       'Tahoe', 'Challenger', 'VUE', 'CX-9', 'Silverado 1500', 'Equinox',\n",
              "       'Pilot', 'M', 'Sequoia', 'Escape Hybrid', 'S40', 'SLK-Class',\n",
              "       'Suburban', 'Malibu Maxx', 'Outlander', 'CLA-Class', 'Ridgeline',\n",
              "       'New Beetle', 'Outback', 'M-Class', 'Silverado 2500HD', 'Santa Fe',\n",
              "       'LaCrosse', '1500', 'L-Series', 'Passat', 'Q5', 'RX 330',\n",
              "       'Eclipse', 'Beetle Convertible', 'Transit Connect', 'Navigator',\n",
              "       'Camaro', 'Expedition', 'MDX', 'Forester', 'Pathfinder',\n",
              "       'Grand Am', 'QX56', 'Range Rover Sport', 'Regal', 'SX4', 'Juke',\n",
              "       'Traverse', 'RX 350', 'C-Class', 'Mariner', 'Impreza',\n",
              "       'Thunderbird', 'G Coupe', '6 Series Gran Coupe', 'GS 430',\n",
              "       'Altima Hybrid', 'TL', 'xD', 'Avalon', 'Jetta GLI', 'Taurus X',\n",
              "       'Range Rover', 'Neon', 'J30', 'Cavalier', 'S-Series', 'A4',\n",
              "       'Boxster', 'Sprinter Cargo', 'GLK-Class', 'Crossfire',\n",
              "       'Santa Fe Sport', 'HHR', 'Aveo', 'Ram Pickup 2500', 'Cobalt',\n",
              "       'Armada', 'Range Rover Evoque', 'Cadenza', 'Forenza',\n",
              "       'Sierra 2500HD', 'Escalade ESV', 'Aviator', 'CC', 'Town Car', 'JX',\n",
              "       'Rogue Select', 'Highlander', 'I35', 'H2', 'RX 400h', 'Q50',\n",
              "       '3500', '350Z', 'Patriot', 'Captiva Sport', 'Pacifica', 'Compass',\n",
              "       'Mazda5', 'Fusion Hybrid', '9-3', 'Versa Note', 'CX-7',\n",
              "       'Monte Carlo', 'Aura', 'Sportage', 'Quest', 'ILX', 'Routan', 'EX',\n",
              "       'Golf', 'Veracruz', 'Millenia', 'Sedona', 'Cayenne', 'Terraza',\n",
              "       'Spectra', 'Veloster', 'FX', 'X1', 'RX 300', 'H3', '6 Series',\n",
              "       'RDX', 'Dart', 'C30', 'LS', 'XC90', 'C70', 'Freestyle', 'G35',\n",
              "       'Dakota', 'Aspen', 'Caliber', 'Cherokee', 'Cooper Clubman',\n",
              "       'E-Series Wagon', 'Tiguan', 'Endeavor', 'XV Crosstrek',\n",
              "       'Grand Marquis', 'Century', 'Silverado 3500', 'Land Cruiser', 'xB',\n",
              "       'Spark', '1 Series', 'Montero', 'Camry Hybrid', 'M3', 'X6',\n",
              "       'Rondo', 'SC 430', 'XC60', 'Element', 'NV200', 'X-Type', 'G37',\n",
              "       'Envoy XL', 'Milan', 'Cooper Countryman', 'DeVille', 'Insight',\n",
              "       'Protege', 'XL7', 'Mazda2', 'Aura Hybrid', 'Sonata Hybrid', 'Cube',\n",
              "       'M6 Gran Coupe', 'Verano', 'Tribeca', 'LS 460', 'XL-7', 'A6',\n",
              "       'Discovery Series II', 'M5', 'Lancer Evolution', 'C-Max Hybrid',\n",
              "       'TrailBlazer EXT', 'Freestar', 'Montero Sport', 'Lumina',\n",
              "       'Explorer Sport Trac', 'Crosstour', 'CL', 'QX70', 'GX 460',\n",
              "       'Accord Crosstour', 'Relay', 'Torrent', 'CL-Class', 'Mountaineer',\n",
              "       'A3', 'Tiburon', 'QX60', 'GranTurismo', 'Touareg', 'Five Hundred',\n",
              "       'M35', 'Rendezvous', 'Blazer', 'Titan', 'NV Cargo', 'GTI',\n",
              "       'Sephia', 'Malibu Classic', 'CLS-Class', 'Silverado 1500 Classic',\n",
              "       'LX 570', 'SL-Class', 'Genesis Coupe', 'Sierra 1500 Classic',\n",
              "       'Yukon XL', 'A5', 'G37 Convertible', '500', 'GL-Class', 'Amanti',\n",
              "       'MKT', 'XTS', 'C/K 1500 Series', 'Beetle', 'Legacy', 'Excursion',\n",
              "       'F-TYPE', 'G3', 'Express', 'Quattroporte', 'Montana', 'Axiom',\n",
              "       'B-Series Truck', 'Outlook', 'S80', 'Vibe', 'Jetta SportWagen',\n",
              "       '4 Series', '2 Series', 'RX 450h', 'Silverado 3500HD', '626',\n",
              "       'Canyon', 'HS 250h', 'S2000', 'iQ', 'IS 350', 'Yukon Hybrid',\n",
              "       'Prizm', 'Envoy', 'Rodeo', 'FX35', 'Firebird', 'Fit', 'ES 330',\n",
              "       'Jimmy', 'LS 430', 'Promaster Cargo Van', 'V50', 'Sky',\n",
              "       'Highlander Hybrid', 'Bonneville', 'Eos', 'QX80', '500L',\n",
              "       'Eldorado', 'XJ-Series', 'ATS', 'Marauder', 'B9 Tribeca', 'R8',\n",
              "       'Uplander', 'S5', 'CT 200h', 'fortwo', 'Prius c', 'Rabbit',\n",
              "       'Eclipse Spyder', 'LR2', 'Seville', 'Mazdaspeed 3', 'S-Type',\n",
              "       'Magnum', '300M', 'FR-S', 'Fusion Energi', 'malibu', 'CR-Z',\n",
              "       'MX-5 Miata', 'BRZ', 'Concorde', 'G8', 'FX45', 'Sable', 'LeSabre',\n",
              "       'Macan', '3 Series Gran Turismo', 'Windstar', '3', 'TT',\n",
              "       'Panamera', 'Venture', 'Catera', 'RS 5', 'Escalade EXT', 'Astra',\n",
              "       'Diamante', 'Intrigue', 'S4', 'Mazdaspeed3', 'Avalon Hybrid',\n",
              "       'Camry Solara', 'Ram Pickup 3500', 'QX', 'R32', 'Elantra Coupe',\n",
              "       'LR4', '911', 'GLI', '9-7X', 'S-10', 'Shelby GT500', 'Azera',\n",
              "       '370Z', 'Equus', 'X6 M', 'allroad quattro', 'Tahoe Hybrid',\n",
              "       'Q60 Convertible', 'Crown Victoria', 'XG350', 'XK-Series', 'Paseo',\n",
              "       'Corvette Stingray', 'Focus ST', 'Karma', 'V60', 'Escort', 'I30',\n",
              "       'A8', 'V70', 'GS 300', 'Celica', 'Cabrio', 'Intrepid', 'H2 SUT',\n",
              "       'LR3', 'F-150 Heritage', 'Ghibli', 'Galant', 'Lancer Sportback',\n",
              "       'MPV', 'Zephyr', 'Grand Vitara', 'LX 470', 'Tracker', 'Tribute',\n",
              "       'Cougar', 'Touareg 2', 'IS 250 C', 'Integra', 'Q45', 'WRX',\n",
              "       'Sunfire', 'Expedition EL', 'Murano CrossCabriolet', 'Borrego',\n",
              "       'Safari Cargo', 'Black Diamond Avalanche', 'Prius Plug-in',\n",
              "       'Entourage', 'A7', 'Golf R', 'C-Max Energi', 'Alero', 'GX 470',\n",
              "       'Mariner Hybrid', 'Passport', 'Mark LT', 'Freelander',\n",
              "       'Sierra 3500HD', 'QX4', 'XK', 'GT-R', 'Caravan', 'CTS-V', 'Baja',\n",
              "       'Prelude', 'Sprinter', 'Protege5', 'CTS Coupe', 'EX35',\n",
              "       'Sierra 3500', 'IS 350 C', 'IS F', 'GTO', 'Rainier', 'M6', 'XC70',\n",
              "       'Solstice', 'Sonoma', '9-5', 'Raider', 'CTS Wagon',\n",
              "       'GranTurismo Convertible', 'NV', 'allroad', 'Cutlass', 'Aerio',\n",
              "       'xA', 'Viper', 'Envoy XUV', 'C/V Cargo Van', 'SSR', 'L300', 'M37',\n",
              "       'ZDX', 'Astro Cargo', 'RL', 'S70', 'Explorer Sport',\n",
              "       'Continental GT', 'RC F', 'Bravada', 'IS 300', 'Aurora',\n",
              "       'Silhouette', 'TSX Sport Wagon', 'LHS', 'F-450 Super Duty', 'RLX',\n",
              "       'Cooper Paceman', 'Mystique', 'Park Avenue', 'Classic', 'Trooper',\n",
              "       'Prius v', 'Silverado 2500HD Classic', 'X5 M', 'Montego', '6',\n",
              "       'S8', 'Z3', 'Prowler', 'Silverado 1500HD', 'i-MiEV',\n",
              "       'Sierra 1500HD', 'Sierra 1500 Hybrid', 'Econoline Wagon', 'Safari',\n",
              "       'M45', 'G-Class', 'TTS', 'Malibu Hybrid', 'SS', 'GS 450h',\n",
              "       'Jetta Hybrid', 'Mazdaspeed Mazda3', 'Continental GT Speed',\n",
              "       'F430', 'Elantra Touring', 'Continental', 'RSX',\n",
              "       'Silverado 1500 Hybrid', 'G5', 'ECHO', 'Sierra 2500HD Classic',\n",
              "       'accord', 'MKZ Hybrid', 'S6', 'Contour', '190-Class', 'RS 6',\n",
              "       'Kizashi', 'LS 400', 'Tercel', 'Caprice', '850', 'CTS-V Coupe',\n",
              "       'Voyager', 'Astro', 'Q60 Coupe', 'ES 300h', 'G20', 'V40', 'i8',\n",
              "       'envoy', 'Monterey', 'Cirrus', 'H3T', '200SX', 'Escalade Hybrid',\n",
              "       'Truck', '4 Series Gran Coupe', 'E-150', 'TLX', 'STS-V', 'Tempo',\n",
              "       'Blackwood', 'V8 Vantage', 'GS 400', 'Continental GTC',\n",
              "       'Yukon Denali', 'Cutlass Supreme', 'Transit Van', 'Navigator L',\n",
              "       'Eighty-Eight', 'XG300', 'Q70', 'S7', 'Continental Flying Spur',\n",
              "       'RX-8', 'S90', 'Mark VIII', 'Transit Wagon', 'Reno',\n",
              "       'Silverado 3500 Classic'], dtype=object)"
            ]
          },
          "metadata": {},
          "execution_count": 7
        }
      ]
    },
    {
      "cell_type": "code",
      "source": [
        "# checking the unique values in trim, for duplicates and inconsistencies\n",
        "df['trim'].unique()"
      ],
      "metadata": {
        "id": "73D4bvY426HH",
        "outputId": "12400794-83ab-4458-ad28-c611437027e2",
        "colab": {
          "base_uri": "https://localhost:8080/"
        }
      },
      "execution_count": null,
      "outputs": [
        {
          "output_type": "execute_result",
          "data": {
            "text/plain": [
              "array(['GLS', 'SR5', 'Base', ..., 'Base PZEV', 'Natural Gas',\n",
              "       '10th Anniversary'], dtype=object)"
            ]
          },
          "metadata": {},
          "execution_count": 8
        }
      ]
    },
    {
      "cell_type": "code",
      "source": [
        "# checking the unique values in body, for duplicates and inconsistencies\n",
        "df['body'].unique()"
      ],
      "metadata": {
        "id": "srEXU9Fw25_j",
        "outputId": "251b4aa3-bdf5-459e-8b2b-283705e047d1",
        "colab": {
          "base_uri": "https://localhost:8080/"
        }
      },
      "execution_count": null,
      "outputs": [
        {
          "output_type": "execute_result",
          "data": {
            "text/plain": [
              "array(['sedan', 'SUV', 'Sedan', 'E-Series Van', 'Crew Cab', 'suv',\n",
              "       'G Sedan', 'Wagon', 'Regular Cab', 'Double Cab', 'wagon', 'Coupe',\n",
              "       'Minivan', 'SuperCrew', 'coupe', 'convertible', 'Extended Cab',\n",
              "       'Hatchback', 'van', 'hatchback', 'Van', 'Convertible', 'SuperCab',\n",
              "       'g sedan', 'king cab', 'G Convertible', 'King Cab', 'extended cab',\n",
              "       'quad cab', 'supercab', 'Beetle Convertible', 'minivan', 'G Coupe',\n",
              "       'Quad Cab', 'crew cab', 'supercrew', 'CrewMax Cab', 'double cab',\n",
              "       'g coupe', 'Club Cab', 'Access Cab', 'Genesis Coupe',\n",
              "       'e-series van', 'G37 Convertible', 'Cab Plus 4', 'crewmax cab',\n",
              "       'genesis coupe', 'promaster cargo van', 'access cab', 'Mega Cab',\n",
              "       'Koup', 'regular cab', 'mega cab', 'Elantra Coupe',\n",
              "       'Q60 Convertible', 'regular-cab', 'Promaster Cargo Van', 'Xtracab',\n",
              "       'CTS Coupe', 'CTS Wagon', 'GranTurismo Convertible',\n",
              "       'beetle convertible', 'TSX Sport Wagon', 'g convertible',\n",
              "       'tsx sport wagon', 'CTS-V Coupe', 'Q60 Coupe',\n",
              "       'granturismo convertible', 'cts coupe', 'Transit Van', 'xtracab'],\n",
              "      dtype=object)"
            ]
          },
          "metadata": {},
          "execution_count": 9
        }
      ]
    },
    {
      "cell_type": "code",
      "source": [
        "# checking the unique values in vin, for duplicates and inconsistencies\n",
        "df['vin'].unique()"
      ],
      "metadata": {
        "id": "W2RhM2CC250X",
        "outputId": "4ba16985-3f20-463a-8a1e-a92b2d59f817",
        "colab": {
          "base_uri": "https://localhost:8080/"
        }
      },
      "execution_count": null,
      "outputs": [
        {
          "output_type": "execute_result",
          "data": {
            "text/plain": [
              "array(['5npeb4acxdh702805', 'jtezu5jr2e5064567', 'jthbf5c24c5168599', ...,\n",
              "       'wba3a5c56df356614', '4t1bf1fk8du254684', 'knadm4a32d6164825'],\n",
              "      dtype=object)"
            ]
          },
          "metadata": {},
          "execution_count": 10
        }
      ]
    },
    {
      "cell_type": "code",
      "source": [
        "# checking the unique values in state, for duplicates and inconsistencies\n",
        "df['state'].unique()"
      ],
      "metadata": {
        "id": "kUIj0HxL25js",
        "outputId": "a14e481c-6229-4166-c088-455223cc3bad",
        "colab": {
          "base_uri": "https://localhost:8080/"
        }
      },
      "execution_count": null,
      "outputs": [
        {
          "output_type": "execute_result",
          "data": {
            "text/plain": [
              "array(['ma', 'fl', 'wa', 'co', 'ca', 'il', 'nv', 'mo', 'tx', 'ne', 'md',\n",
              "       'nj', 'la', 'ny', 'nc', 'ut', 'va', 'ga', 'tn', 'oh', 'ms', 'pa',\n",
              "       'or', 'mi', 'wi', 'az', 'pr', 'mn', 'in', 'hi', 'sc', 'ok', 'nm',\n",
              "       'al'], dtype=object)"
            ]
          },
          "metadata": {},
          "execution_count": 11
        }
      ]
    },
    {
      "cell_type": "code",
      "source": [
        "# checking the unique values in condition, for duplicates and inconsistencies\n",
        "df['condition'].unique()"
      ],
      "metadata": {
        "id": "oQUWXGBo3LJu",
        "outputId": "6366a675-6278-454d-80f4-dae375dd61ae",
        "colab": {
          "base_uri": "https://localhost:8080/"
        }
      },
      "execution_count": null,
      "outputs": [
        {
          "output_type": "execute_result",
          "data": {
            "text/plain": [
              "array([3.9, 4.9, 4.1, 1.9, 4.6, 3.6, 1.7, 5. , 4.4, 2.7, 1. , 4.2, 2.5,\n",
              "       3.5, 4. , 3. , 3.1, 2.4, 4.7, 4.5, 3.3, 2.9, 3.4, 2.8, 2.1, 4.3,\n",
              "       2.3, 3.7, 3.2, 2. , 2.2, 2.6, 3.8, 4.8, 1.4, 1.6, 1.1, 1.8, 1.3,\n",
              "       1.5, 1.2])"
            ]
          },
          "metadata": {},
          "execution_count": 12
        }
      ]
    },
    {
      "cell_type": "code",
      "source": [
        "# checking the unique values in odometer, for duplicates and inconsistencies\n",
        "df['odometer'].unique()"
      ],
      "metadata": {
        "id": "DjnVvnPp3QYV",
        "outputId": "5e1c2384-66e5-49ba-bf60-9151823c4525",
        "colab": {
          "base_uri": "https://localhost:8080/"
        }
      },
      "execution_count": null,
      "outputs": [
        {
          "output_type": "execute_result",
          "data": {
            "text/plain": [
              "array(['50404.0mi', '17846.0mi', '21122.0mi', ..., '45357.0mi',\n",
              "       '43376.0mi', '49953.0mi'], dtype=object)"
            ]
          },
          "metadata": {},
          "execution_count": 13
        }
      ]
    },
    {
      "cell_type": "code",
      "source": [
        "# checking the unique values in color, for duplicates and inconsistencies\n",
        "df['color'].unique()"
      ],
      "metadata": {
        "id": "OS1E40c73QN9",
        "outputId": "6ecf30ee-a1f8-4926-f233-0029b9967a39",
        "colab": {
          "base_uri": "https://localhost:8080/"
        }
      },
      "execution_count": null,
      "outputs": [
        {
          "output_type": "execute_result",
          "data": {
            "text/plain": [
              "array(['black', 'gray', 'silver', 'white', 'blue', 'burgundy', 'beige',\n",
              "       'gold', 'green', 'red', 'purple', '—', 'yellow', 'brown',\n",
              "       'turquoise', 'orange', 'off-white', 'charcoal', 'pink', 'lime'],\n",
              "      dtype=object)"
            ]
          },
          "metadata": {},
          "execution_count": 14
        }
      ]
    },
    {
      "cell_type": "code",
      "source": [
        "# checking the number of unkown values in color\n",
        "df['color'].value_counts()"
      ],
      "metadata": {
        "id": "PM62xt-I3NXL",
        "outputId": "69b3862b-25a4-4bd2-a77d-d4f0b63f7108",
        "colab": {
          "base_uri": "https://localhost:8080/"
        }
      },
      "execution_count": null,
      "outputs": [
        {
          "output_type": "execute_result",
          "data": {
            "text/plain": [
              "black        9156\n",
              "white        8693\n",
              "gray         7046\n",
              "silver       6982\n",
              "blue         4244\n",
              "red          3685\n",
              "—            2246\n",
              "gold          948\n",
              "green         891\n",
              "burgundy      785\n",
              "beige         744\n",
              "brown         529\n",
              "orange        195\n",
              "purple        137\n",
              "off-white     129\n",
              "yellow         99\n",
              "charcoal       49\n",
              "turquoise      15\n",
              "pink            3\n",
              "lime            2\n",
              "Name: color, dtype: int64"
            ]
          },
          "metadata": {},
          "execution_count": 15
        }
      ]
    },
    {
      "cell_type": "code",
      "source": [
        "# checking the unique values in seller, for duplicates and inconsistencies\n",
        "df['seller'].unique()"
      ],
      "metadata": {
        "id": "skb5gI8G3YDQ",
        "outputId": "ebfaa5ab-c13f-4247-a822-954269726609",
        "colab": {
          "base_uri": "https://localhost:8080/"
        }
      },
      "execution_count": null,
      "outputs": [
        {
          "output_type": "execute_result",
          "data": {
            "text/plain": [
              "array(['the hertz corporation', 'award auto sales and leasing inc',\n",
              "       'lexus financial services', ..., 'bmw of fresno',\n",
              "       'my mint car corp', 'carter federal credit union'], dtype=object)"
            ]
          },
          "metadata": {},
          "execution_count": 16
        }
      ]
    },
    {
      "cell_type": "code",
      "source": [
        "# checking the unique values in transmission, for duplicates and inconsistencies\n",
        "df['transmission'].unique()"
      ],
      "metadata": {
        "id": "jleLt-S13X5-",
        "outputId": "d4d9f324-a85e-4422-801b-9f2859a488ba",
        "colab": {
          "base_uri": "https://localhost:8080/"
        }
      },
      "execution_count": null,
      "outputs": [
        {
          "output_type": "execute_result",
          "data": {
            "text/plain": [
              "array(['automatic', 'manual'], dtype=object)"
            ]
          },
          "metadata": {},
          "execution_count": 17
        }
      ]
    },
    {
      "cell_type": "code",
      "source": [
        "# checking the unique values in interior, for duplicates and inconsistencies\n",
        "df['interior'].unique()"
      ],
      "metadata": {
        "id": "hkZ0WexM3XyC",
        "outputId": "2dcb46b9-8559-419d-98a1-9e35d3972e71",
        "colab": {
          "base_uri": "https://localhost:8080/"
        }
      },
      "execution_count": null,
      "outputs": [
        {
          "output_type": "execute_result",
          "data": {
            "text/plain": [
              "array(['gray', '—', 'black', 'beige', 'tan', 'red', 'blue', 'brown',\n",
              "       'off-white', 'silver', 'orange', 'purple', 'white', 'gold',\n",
              "       'burgundy', 'green', 'yellow'], dtype=object)"
            ]
          },
          "metadata": {},
          "execution_count": 18
        }
      ]
    },
    {
      "cell_type": "code",
      "source": [
        "# checking the number of unknown values in interior\n",
        "df['interior'].value_counts()"
      ],
      "metadata": {
        "id": "jYyR4V173XQd",
        "outputId": "12ea9115-c9f4-4efc-a4a8-89f179488a52",
        "colab": {
          "base_uri": "https://localhost:8080/"
        }
      },
      "execution_count": null,
      "outputs": [
        {
          "output_type": "execute_result",
          "data": {
            "text/plain": [
              "black        20734\n",
              "gray         15020\n",
              "beige         4917\n",
              "tan           3777\n",
              "—              988\n",
              "brown          694\n",
              "blue           101\n",
              "red             92\n",
              "silver          88\n",
              "off-white       39\n",
              "purple          31\n",
              "gold            26\n",
              "white           23\n",
              "burgundy        20\n",
              "green           16\n",
              "orange          11\n",
              "yellow           1\n",
              "Name: interior, dtype: int64"
            ]
          },
          "metadata": {},
          "execution_count": 19
        }
      ]
    },
    {
      "cell_type": "code",
      "source": [
        "# checking the unique values in mmr, for duplicates and inconsistencies\n",
        "df['mmr'].unique()"
      ],
      "metadata": {
        "id": "vI9XaF773f7u",
        "outputId": "1e1ea4b0-bbb2-46d9-d91e-f323362505c8",
        "colab": {
          "base_uri": "https://localhost:8080/"
        }
      },
      "execution_count": null,
      "outputs": [
        {
          "output_type": "execute_result",
          "data": {
            "text/plain": [
              "array(['$11000', '$28700', '$22200', ..., '$51500', '$57900', '$94000'],\n",
              "      dtype=object)"
            ]
          },
          "metadata": {},
          "execution_count": 20
        }
      ]
    },
    {
      "cell_type": "code",
      "source": [
        "# checking the unique values in sellingprice, for duplicates and inconsistencies\n",
        "df['sellingprice'].unique()"
      ],
      "metadata": {
        "id": "vSqDV_8u3f1B",
        "outputId": "60197b9d-6894-4d72-ce34-3f9d4fa54a0a",
        "colab": {
          "base_uri": "https://localhost:8080/"
        }
      },
      "execution_count": null,
      "outputs": [
        {
          "output_type": "execute_result",
          "data": {
            "text/plain": [
              "array(['$10900', '$29900', '$24200', '$3200', '$22100', '$15500',\n",
              "       '$13600', '$14700', '$20000', '$27500', '$22250', '$23700',\n",
              "       '$12000', '$3700', '$5500', '$7300', '$800', '$18000', '$12500',\n",
              "       '$8900', '$36500', '$5900', '$16300', '$17800', '$8300', '$3000',\n",
              "       '$700', '$5100', '$23000', '$9100', '$40250', '$17900', '$51000',\n",
              "       '$20600', '$12900', '$9200', '$19600', '$18900', '$25000', '$8600',\n",
              "       '$20900', '$28750', '$31700', '$11900', '$1250', '$6700', '$8200',\n",
              "       '$2800', '$27000', '$21300', '$9500', '$13200', '$11400', '$8700',\n",
              "       '$11200', '$13700', '$17000', '$22300', '$5200', '$3400', '$19800',\n",
              "       '$1100', '$19000', '$7500', '$2100', '$19300', '$12800', '$8000',\n",
              "       '$11600', '$13900', '$9000', '$8400', '$4800', '$15700', '$15000',\n",
              "       '$14400', '$20400', '$14600', '$34000', '$13750', '$8500',\n",
              "       '$10300', '$10600', '$10000', '$1300', '$30000', '$6200', '$25500',\n",
              "       '$12100', '$11000', '$22800', '$44250', '$7100', '$12600',\n",
              "       '$17600', '$9800', '$23500', '$43900', '$10800', '$7600', '$13100',\n",
              "       '$3100', '$32000', '$32800', '$2400', '$20500', '$10700', '$3800',\n",
              "       '$14300', '$4200', '$2000', '$900', '$3850', '$6500', '$9900',\n",
              "       '$4400', '$2300', '$15100', '$15400', '$17200', '$6100', '$11100',\n",
              "       '$6900', '$7000', '$22000', '$20200', '$16400', '$16000', '$11800',\n",
              "       '$18600', '$14800', '$15200', '$12700', '$18700', '$50250',\n",
              "       '$11300', '$2200', '$1700', '$25700', '$16600', '$14500', '$4100',\n",
              "       '$13500', '$47250', '$31000', '$24250', '$6300', '$16700', '$5400',\n",
              "       '$1625', '$7900', '$12101', '$13400', '$14200', '$33250', '$16200',\n",
              "       '$6000', '$42750', '$1000', '$6400', '$21250', '$350', '$18750',\n",
              "       '$18300', '$27100', '$31750', '$2600', '$26900', '$9750', '$33900',\n",
              "       '$17500', '$21000', '$11500', '$36700', '$36000', '$4900', '$1600',\n",
              "       '$15900', '$9600', '$13000', '$22900', '$16500', '$16250',\n",
              "       '$24100', '$17250', '$15600', '$30200', '$15300', '$5800', '$5000',\n",
              "       '$1400', '$19700', '$2500', '$5600', '$3900', '$1900', '$25200',\n",
              "       '$26200', '$41000', '$3600', '$48000', '$24400', '$10500', '$6800',\n",
              "       '$25900', '$16800', '$7700', '$21400', '$300', '$25400', '$21600',\n",
              "       '$24000', '$28500', '$33300', '$3500', '$4600', '$34700', '$21200',\n",
              "       '$10400', '$13250', '$3300', '$2900', '$23800', '$17400', '$19200',\n",
              "       '$13300', '$23300', '$27200', '$750', '$18800', '$18400', '$7200',\n",
              "       '$22500', '$10200', '$47000', '$25600', '$1200', '$4500', '$19900',\n",
              "       '$9300', '$17300', '$4300', '$22200', '$4000', '$35800', '$26600',\n",
              "       '$23250', '$15800', '$6250', '$20100', '$12750', '$37600', '$1500',\n",
              "       '$24750', '$11001', '$20700', '$45000', '$46250', '$10350',\n",
              "       '$11700', '$31250', '$44000', '$9700', '$43300', '$29400', '$7800',\n",
              "       '$24300', '$16900', '$7400', '$500', '$5300', '$20800', '$5750',\n",
              "       '$27750', '$22400', '$30900', '$2700', '$5700', '$30750', '$32600',\n",
              "       '$21700', '$36900', '$26000', '$19250', '$14100', '$43200',\n",
              "       '$12200', '$18200', '$3150', '$9400', '$38600', '$55600', '$9250',\n",
              "       '$28000', '$21500', '$21100', '$23100', '$12300', '$26250',\n",
              "       '$42000', '$18500', '$32200', '$46400', '$17700', '$19100',\n",
              "       '$13800', '$14900', '$36750', '$27400', '$35000', '$17100',\n",
              "       '$27250', '$12250', '$2950', '$28300', '$8100', '$4750', '$4700',\n",
              "       '$31100', '$37100', '$26100', '$21800', '$16100', '$24800',\n",
              "       '$23900', '$33200', '$38000', '$1350', '$31600', '$8750', '$19400',\n",
              "       '$10100', '$39000', '$23750', '$37000', '$32500', '$1150', '$8800',\n",
              "       '$25800', '$11250', '$28250', '$27600', '$37900', '$20750',\n",
              "       '$10750', '$28600', '$31800', '$22600', '$225', '$29600', '$19750',\n",
              "       '$20250', '$32300', '$50500', '$400', '$29500', '$26500', '$21750',\n",
              "       '$12400', '$1800', '$19500', '$6600', '$25250', '$1650', '$30800',\n",
              "       '$35900', '$24401', '$18100', '$18250', '$14000', '$600', '$32400',\n",
              "       '$20560', '$2550', '$28800', '$24600', '$17350', '$54000',\n",
              "       '$37250', '$42500', '$24700', '$63000', '$30250', '$34500',\n",
              "       '$32750', '$33500', '$29800', '$39500', '$24500', '$7750',\n",
              "       '$22750', '$34100', '$23200', '$325', '$89200', '$29750', '$1050',\n",
              "       '$25750', '$8450', '$8501', '$65000', '$43800', '$17750', '$275',\n",
              "       '$25100', '$3450', '$28100', '$450', '$16750', '$26800', '$30100',\n",
              "       '$6750', '$40400', '$34200', '$23600', '$28200', '$24900',\n",
              "       '$33750', '$31200', '$53500', '$68500', '$34300', '$43500', '$200',\n",
              "       '$1750', '$33800', '$29000', '$64500', '$650', '$44500', '$7550',\n",
              "       '$6625', '$550', '$1550', '$15750', '$44400', '$42250', '$23400',\n",
              "       '$22301', '$60000', '$29250', '$35500', '$38500', '$14750',\n",
              "       '$22700', '$7363', '$26400', '$28700', '$27900', '$29100',\n",
              "       '$34750', '$66000', '$1950', '$850', '$11750', '$26700', '$10250',\n",
              "       '$41600', '$54600', '$250', '$31500', '$48250', '$45300', '$3650',\n",
              "       '$1850', '$2250', '$27800', '$40200', '$39025', '$34600', '$50750',\n",
              "       '$31400', '$29200', '$37750', '$25300', '$10150', '$35400',\n",
              "       '$38100', '$30500', '$76500', '$13150', '$39200', '$41800',\n",
              "       '$7501', '$53600', '$37500', '$950', '$34400', '$15250', '$47750',\n",
              "       '$33000', '$20300', '$28900', '$9101', '$54300', '$55000', '$2325',\n",
              "       '$120000', '$30600', '$33400', '$50000', '$3750', '$21900',\n",
              "       '$71500', '$20925', '$52000', '$55500', '$2150', '$33700', '$9201',\n",
              "       '$10001', '$36800', '$34900', '$67200', '$32250', '$40000',\n",
              "       '$30400', '$8250', '$31900', '$33600', '$41250', '$26750',\n",
              "       '$49000', '$48800', '$37200', '$46000', '$38900', '$27300',\n",
              "       '$54500', '$53000', '$39100', '$34250', '$73600', '$35200',\n",
              "       '$36200', '$2720', '$29700', '$43750', '$4250', '$43000', '$57750',\n",
              "       '$15590', '$58000', '$48500', '$55800', '$33100', '$37800',\n",
              "       '$30050', '$39400', '$36400', '$42400', '$54750', '$2450',\n",
              "       '$27700', '$78000', '$84500', '$150', '$61000', '$36300', '$16501',\n",
              "       '$2850', '$68000', '$59000', '$41500', '$3350', '$43700', '$35100',\n",
              "       '$2350', '$39250', '$3550', '$32900', '$1450', '$9150', '$44800',\n",
              "       '$11350', '$35600', '$84000', '$23801', '$39750', '$14250',\n",
              "       '$2650', '$32950', '$11301', '$10101', '$40800', '$102000',\n",
              "       '$11125', '$35700', '$9490', '$58750', '$4850', '$43100', '$35250',\n",
              "       '$51600', '$54200', '$30300', '$49500', '$6275', '$4550', '$41200',\n",
              "       '$37400', '$40750', '$14450', '$4650', '$9801', '$35300', '$425',\n",
              "       '$10850', '$26300', '$38200', '$38800', '$39600', '$28400',\n",
              "       '$34800', '$45200', '$32700', '$12550', '$44100', '$46750',\n",
              "       '$10801', '$31300', '$42800', '$10601', '$2750', '$18901', '$9301',\n",
              "       '$375', '$41700', '$49200', '$44700', '$47500', '$85500', '$7250',\n",
              "       '$58800', '$38250', '$18450', '$48200', '$24725', '$3250',\n",
              "       '$38700', '$35750', '$2050', '$42200', '$57250', '$40300',\n",
              "       '$69500', '$46500', '$45500', '$40500', '$5150', '$65200',\n",
              "       '$28850', '$43600', '$29300', '$47200', '$24350', '$30700',\n",
              "       '$70000', '$57000', '$44200', '$14150', '$40025', '$45750',\n",
              "       '$69000', '$79200', '$94500', '$41400', '$13550', '$38150',\n",
              "       '$64000', '$475', '$17301', '$4150', '$12950', '$36600', '$52200',\n",
              "       '$31901', '$7350', '$46300', '$38750', '$72750', '$10501', '$5050',\n",
              "       '$56500', '$38400', '$49400', '$117500', '$44750', '$10050',\n",
              "       '$45600', '$11850', '$12850', '$37700', '$13195', '$54800',\n",
              "       '$15950', '$5450', '$78250', '$22765', '$5650', '$46800', '$28901',\n",
              "       '$11901', '$10901', '$59800', '$52750', '$10201', '$87000',\n",
              "       '$62500', '$7450', '$175', '$78500', '$12801', '$44600', '$42600',\n",
              "       '$26625', '$4050', '$47800', '$11360', '$89000', '$67000',\n",
              "       '$39800', '$13650', '$53300', '$15350', '$11401', '$3050',\n",
              "       '$22601', '$39900', '$9501', '$8850', '$12050', '$58250',\n",
              "       '$230000', '$36100', '$11450', '$43250', '$37440', '$114500',\n",
              "       '$39700', '$13350', '$36250', '$34201', '$16901', '$58100',\n",
              "       '$49800', '$5250', '$675', '$56300', '$51700', '$48750', '$11650',\n",
              "       '$20150', '$96000', '$117000', '$5975', '$9350', '$73000',\n",
              "       '$59500', '$40600', '$52600', '$48600', '$3950', '$8601', '$63500',\n",
              "       '$77000', '$18625', '$11201', '$11501', '$32100', '$17601',\n",
              "       '$6850', '$12301', '$64200', '$38300', '$39300', '$26401',\n",
              "       '$42900', '$75800', '$60500', '$9401', '$63250', '$62000',\n",
              "       '$16676', '$45400', '$6450', '$76000', '$47600', '$37300',\n",
              "       '$60100', '$63750', '$74500', '$53750', '$5350', '$96500',\n",
              "       '$14301', '$44900', '$51400', '$28550', '$420', '$11801', '$51100',\n",
              "       '$22401', '$46900', '$58500', '$13501', '$131500', '$560',\n",
              "       '$27001', '$56750', '$47400', '$59600', '$88800', '$13050',\n",
              "       '$45700', '$6350', '$6950', '$42100', '$49100', '$22825', '$40501',\n",
              "       '$50700', '$8350', '$27550', '$12001', '$7850', '$11701', '$5950',\n",
              "       '$29801', '$14350', '$75000', '$15550', '$88100', '$15601',\n",
              "       '$7640', '$8550', '$17450', '$51500', '$26950', '$49700', '$16001',\n",
              "       '$29301', '$119000', '$72500', '$30474', '$56100', '$41900',\n",
              "       '$15501', '$43400', '$20670', '$41501', '$12601', '$52500',\n",
              "       '$16401', '$14550', '$19431', '$875', '$143000', '$41100', '$625',\n",
              "       '$53250', '$4950', '$49250', '$64800', '$56200', '$62750', '$8950',\n",
              "       '$40100', '$525', '$53800', '$7950', '$13850', '$47100', '$106000',\n",
              "       '$20630', '$57500', '$49750', '$23925', '$8901', '$51750', '$6650',\n",
              "       '$69100', '$152000', '$10401', '$18501', '$10950', '$99000',\n",
              "       '$75500', '$9950', '$101500', '$42300', '$33950', '$21350',\n",
              "       '$79000', '$25990', '$12701', '$14050', '$56000', '$57400',\n",
              "       '$37150', '$11150', '$17499', '$118000', '$17501', '$32401',\n",
              "       '$15901', '$45250', '$52900', '$11101', '$53100', '$86000',\n",
              "       '$71000', '$70750', '$8440', '$13901', '$29701', '$46200', '$7901',\n",
              "       '$82750', '$4350', '$75400', '$9550', '$90000', '$65500', '$95000',\n",
              "       '$12201', '$13620', '$68501', '$12501', '$58400', '$25450',\n",
              "       '$71600', '$12401', '$51800', '$90400', '$9701', '$41300',\n",
              "       '$13450', '$61800', '$48900', '$11975', '$13801', '$65700',\n",
              "       '$25025', '$24301', '$17201', '$91000', '$6150', '$40900',\n",
              "       '$11425', '$8801', '$52250', '$14001'], dtype=object)"
            ]
          },
          "metadata": {},
          "execution_count": 21
        }
      ]
    },
    {
      "cell_type": "code",
      "source": [
        "# checking the unique values in saledate, for duplicates and inconsistencies\n",
        "df['saledate'].unique()"
      ],
      "metadata": {
        "id": "DnIpr0FX3fto",
        "outputId": "9b29afb8-2f3f-4d53-b020-dc5569a3c70d",
        "colab": {
          "base_uri": "https://localhost:8080/"
        }
      },
      "execution_count": null,
      "outputs": [
        {
          "output_type": "execute_result",
          "data": {
            "text/plain": [
              "array(['Tue Jun 02 2015 02:30:00 GMT-0700 (PDT)',\n",
              "       'Wed Feb 18 2015 07:15:00 GMT-0800 (PST)',\n",
              "       'Tue Jan 20 2015 01:30:00 GMT-0800 (PST)', ...,\n",
              "       'Wed Mar 04 2015 01:45:00 GMT-0800 (PST)',\n",
              "       'Wed Jun 17 2015 02:45:00 GMT-0700 (PDT)',\n",
              "       'Tue Apr 28 2015 04:30:00 GMT-0700 (PDT)'], dtype=object)"
            ]
          },
          "metadata": {},
          "execution_count": 22
        }
      ]
    },
    {
      "cell_type": "markdown",
      "metadata": {
        "id": "90WtpnUa2OOu"
      },
      "source": [
        "## Data Pre-Processing & Cleaning\n",
        "\n",
        "_Apply any data preprocessing and/or feature engineering below. Show/output the changes to the dataset._"
      ]
    },
    {
      "cell_type": "code",
      "execution_count": null,
      "metadata": {
        "id": "fpOAW2mM2OOu",
        "outputId": "66338f50-2041-4767-a06f-622e6cc7925c",
        "colab": {
          "base_uri": "https://localhost:8080/",
          "height": 424
        }
      },
      "outputs": [
        {
          "output_type": "execute_result",
          "data": {
            "text/plain": [
              "   year     make         model   trim          body transmission  \\\n",
              "0  2013  Hyundai        Sonata    GLS         sedan    automatic   \n",
              "1  2014   Toyota       4Runner    SR5           SUV    automatic   \n",
              "2  2012    Lexus        IS 250   Base         Sedan    automatic   \n",
              "3  2002      BMW            X5   4.4i           SUV    automatic   \n",
              "4  2014     Ford  E-Series Van  E-250  E-Series Van    automatic   \n",
              "\n",
              "                 vin state  condition    odometer   color interior  \\\n",
              "0  5npeb4acxdh702805    ma        3.9   50404.0mi   black     gray   \n",
              "1  jtezu5jr2e5064567    fl        4.9   17846.0mi    gray        —   \n",
              "2  jthbf5c24c5168599    fl        4.1   21122.0mi  silver    black   \n",
              "3  5uxfb33562lh33864    fl        1.9  145303.0mi   black    black   \n",
              "4  1ftne2ew0eda31832    wa        4.9    6714.0mi   white     gray   \n",
              "\n",
              "                             seller    mmr  sellingprice  \\\n",
              "0             the hertz corporation  11000         10900   \n",
              "1  award auto sales and leasing inc  28700         29900   \n",
              "2          lexus financial services  22200         24200   \n",
              "3                        peddle llc   3675          3200   \n",
              "4                            u-haul  22500         22100   \n",
              "\n",
              "                                  saledate  \n",
              "0  Tue Jun 02 2015 02:30:00 GMT-0700 (PDT)  \n",
              "1  Wed Feb 18 2015 07:15:00 GMT-0800 (PST)  \n",
              "2  Tue Jan 20 2015 01:30:00 GMT-0800 (PST)  \n",
              "3  Wed Mar 04 2015 07:10:00 GMT-0800 (PST)  \n",
              "4  Wed Feb 18 2015 06:45:00 GMT-0800 (PST)  "
            ],
            "text/html": [
              "\n",
              "  <div id=\"df-0fd753c5-dace-4709-ae7c-796b776d0c3e\">\n",
              "    <div class=\"colab-df-container\">\n",
              "      <div>\n",
              "<style scoped>\n",
              "    .dataframe tbody tr th:only-of-type {\n",
              "        vertical-align: middle;\n",
              "    }\n",
              "\n",
              "    .dataframe tbody tr th {\n",
              "        vertical-align: top;\n",
              "    }\n",
              "\n",
              "    .dataframe thead th {\n",
              "        text-align: right;\n",
              "    }\n",
              "</style>\n",
              "<table border=\"1\" class=\"dataframe\">\n",
              "  <thead>\n",
              "    <tr style=\"text-align: right;\">\n",
              "      <th></th>\n",
              "      <th>year</th>\n",
              "      <th>make</th>\n",
              "      <th>model</th>\n",
              "      <th>trim</th>\n",
              "      <th>body</th>\n",
              "      <th>transmission</th>\n",
              "      <th>vin</th>\n",
              "      <th>state</th>\n",
              "      <th>condition</th>\n",
              "      <th>odometer</th>\n",
              "      <th>color</th>\n",
              "      <th>interior</th>\n",
              "      <th>seller</th>\n",
              "      <th>mmr</th>\n",
              "      <th>sellingprice</th>\n",
              "      <th>saledate</th>\n",
              "    </tr>\n",
              "  </thead>\n",
              "  <tbody>\n",
              "    <tr>\n",
              "      <th>0</th>\n",
              "      <td>2013</td>\n",
              "      <td>Hyundai</td>\n",
              "      <td>Sonata</td>\n",
              "      <td>GLS</td>\n",
              "      <td>sedan</td>\n",
              "      <td>automatic</td>\n",
              "      <td>5npeb4acxdh702805</td>\n",
              "      <td>ma</td>\n",
              "      <td>3.9</td>\n",
              "      <td>50404.0mi</td>\n",
              "      <td>black</td>\n",
              "      <td>gray</td>\n",
              "      <td>the hertz corporation</td>\n",
              "      <td>11000</td>\n",
              "      <td>10900</td>\n",
              "      <td>Tue Jun 02 2015 02:30:00 GMT-0700 (PDT)</td>\n",
              "    </tr>\n",
              "    <tr>\n",
              "      <th>1</th>\n",
              "      <td>2014</td>\n",
              "      <td>Toyota</td>\n",
              "      <td>4Runner</td>\n",
              "      <td>SR5</td>\n",
              "      <td>SUV</td>\n",
              "      <td>automatic</td>\n",
              "      <td>jtezu5jr2e5064567</td>\n",
              "      <td>fl</td>\n",
              "      <td>4.9</td>\n",
              "      <td>17846.0mi</td>\n",
              "      <td>gray</td>\n",
              "      <td>—</td>\n",
              "      <td>award auto sales and leasing inc</td>\n",
              "      <td>28700</td>\n",
              "      <td>29900</td>\n",
              "      <td>Wed Feb 18 2015 07:15:00 GMT-0800 (PST)</td>\n",
              "    </tr>\n",
              "    <tr>\n",
              "      <th>2</th>\n",
              "      <td>2012</td>\n",
              "      <td>Lexus</td>\n",
              "      <td>IS 250</td>\n",
              "      <td>Base</td>\n",
              "      <td>Sedan</td>\n",
              "      <td>automatic</td>\n",
              "      <td>jthbf5c24c5168599</td>\n",
              "      <td>fl</td>\n",
              "      <td>4.1</td>\n",
              "      <td>21122.0mi</td>\n",
              "      <td>silver</td>\n",
              "      <td>black</td>\n",
              "      <td>lexus financial services</td>\n",
              "      <td>22200</td>\n",
              "      <td>24200</td>\n",
              "      <td>Tue Jan 20 2015 01:30:00 GMT-0800 (PST)</td>\n",
              "    </tr>\n",
              "    <tr>\n",
              "      <th>3</th>\n",
              "      <td>2002</td>\n",
              "      <td>BMW</td>\n",
              "      <td>X5</td>\n",
              "      <td>4.4i</td>\n",
              "      <td>SUV</td>\n",
              "      <td>automatic</td>\n",
              "      <td>5uxfb33562lh33864</td>\n",
              "      <td>fl</td>\n",
              "      <td>1.9</td>\n",
              "      <td>145303.0mi</td>\n",
              "      <td>black</td>\n",
              "      <td>black</td>\n",
              "      <td>peddle llc</td>\n",
              "      <td>3675</td>\n",
              "      <td>3200</td>\n",
              "      <td>Wed Mar 04 2015 07:10:00 GMT-0800 (PST)</td>\n",
              "    </tr>\n",
              "    <tr>\n",
              "      <th>4</th>\n",
              "      <td>2014</td>\n",
              "      <td>Ford</td>\n",
              "      <td>E-Series Van</td>\n",
              "      <td>E-250</td>\n",
              "      <td>E-Series Van</td>\n",
              "      <td>automatic</td>\n",
              "      <td>1ftne2ew0eda31832</td>\n",
              "      <td>wa</td>\n",
              "      <td>4.9</td>\n",
              "      <td>6714.0mi</td>\n",
              "      <td>white</td>\n",
              "      <td>gray</td>\n",
              "      <td>u-haul</td>\n",
              "      <td>22500</td>\n",
              "      <td>22100</td>\n",
              "      <td>Wed Feb 18 2015 06:45:00 GMT-0800 (PST)</td>\n",
              "    </tr>\n",
              "  </tbody>\n",
              "</table>\n",
              "</div>\n",
              "      <button class=\"colab-df-convert\" onclick=\"convertToInteractive('df-0fd753c5-dace-4709-ae7c-796b776d0c3e')\"\n",
              "              title=\"Convert this dataframe to an interactive table.\"\n",
              "              style=\"display:none;\">\n",
              "        \n",
              "  <svg xmlns=\"http://www.w3.org/2000/svg\" height=\"24px\"viewBox=\"0 0 24 24\"\n",
              "       width=\"24px\">\n",
              "    <path d=\"M0 0h24v24H0V0z\" fill=\"none\"/>\n",
              "    <path d=\"M18.56 5.44l.94 2.06.94-2.06 2.06-.94-2.06-.94-.94-2.06-.94 2.06-2.06.94zm-11 1L8.5 8.5l.94-2.06 2.06-.94-2.06-.94L8.5 2.5l-.94 2.06-2.06.94zm10 10l.94 2.06.94-2.06 2.06-.94-2.06-.94-.94-2.06-.94 2.06-2.06.94z\"/><path d=\"M17.41 7.96l-1.37-1.37c-.4-.4-.92-.59-1.43-.59-.52 0-1.04.2-1.43.59L10.3 9.45l-7.72 7.72c-.78.78-.78 2.05 0 2.83L4 21.41c.39.39.9.59 1.41.59.51 0 1.02-.2 1.41-.59l7.78-7.78 2.81-2.81c.8-.78.8-2.07 0-2.86zM5.41 20L4 18.59l7.72-7.72 1.47 1.35L5.41 20z\"/>\n",
              "  </svg>\n",
              "      </button>\n",
              "      \n",
              "  <style>\n",
              "    .colab-df-container {\n",
              "      display:flex;\n",
              "      flex-wrap:wrap;\n",
              "      gap: 12px;\n",
              "    }\n",
              "\n",
              "    .colab-df-convert {\n",
              "      background-color: #E8F0FE;\n",
              "      border: none;\n",
              "      border-radius: 50%;\n",
              "      cursor: pointer;\n",
              "      display: none;\n",
              "      fill: #1967D2;\n",
              "      height: 32px;\n",
              "      padding: 0 0 0 0;\n",
              "      width: 32px;\n",
              "    }\n",
              "\n",
              "    .colab-df-convert:hover {\n",
              "      background-color: #E2EBFA;\n",
              "      box-shadow: 0px 1px 2px rgba(60, 64, 67, 0.3), 0px 1px 3px 1px rgba(60, 64, 67, 0.15);\n",
              "      fill: #174EA6;\n",
              "    }\n",
              "\n",
              "    [theme=dark] .colab-df-convert {\n",
              "      background-color: #3B4455;\n",
              "      fill: #D2E3FC;\n",
              "    }\n",
              "\n",
              "    [theme=dark] .colab-df-convert:hover {\n",
              "      background-color: #434B5C;\n",
              "      box-shadow: 0px 1px 3px 1px rgba(0, 0, 0, 0.15);\n",
              "      filter: drop-shadow(0px 1px 2px rgba(0, 0, 0, 0.3));\n",
              "      fill: #FFFFFF;\n",
              "    }\n",
              "  </style>\n",
              "\n",
              "      <script>\n",
              "        const buttonEl =\n",
              "          document.querySelector('#df-0fd753c5-dace-4709-ae7c-796b776d0c3e button.colab-df-convert');\n",
              "        buttonEl.style.display =\n",
              "          google.colab.kernel.accessAllowed ? 'block' : 'none';\n",
              "\n",
              "        async function convertToInteractive(key) {\n",
              "          const element = document.querySelector('#df-0fd753c5-dace-4709-ae7c-796b776d0c3e');\n",
              "          const dataTable =\n",
              "            await google.colab.kernel.invokeFunction('convertToInteractive',\n",
              "                                                     [key], {});\n",
              "          if (!dataTable) return;\n",
              "\n",
              "          const docLinkHtml = 'Like what you see? Visit the ' +\n",
              "            '<a target=\"_blank\" href=https://colab.research.google.com/notebooks/data_table.ipynb>data table notebook</a>'\n",
              "            + ' to learn more about interactive tables.';\n",
              "          element.innerHTML = '';\n",
              "          dataTable['output_type'] = 'display_data';\n",
              "          await google.colab.output.renderOutput(dataTable, element);\n",
              "          const docLink = document.createElement('div');\n",
              "          docLink.innerHTML = docLinkHtml;\n",
              "          element.appendChild(docLink);\n",
              "        }\n",
              "      </script>\n",
              "    </div>\n",
              "  </div>\n",
              "  "
            ]
          },
          "metadata": {},
          "execution_count": 23
        }
      ],
      "source": [
        "# removing the $ sign from selling price and mmr and changing their datatypes to int\n",
        "df['sellingprice'] = df['sellingprice'].str.extract('([\\d]+)',expand=False).astype(int)\n",
        "df['mmr'] = df['mmr'].str.extract('([\\d]+)',expand=False).astype(int)\n",
        "df.head()"
      ]
    },
    {
      "cell_type": "code",
      "source": [
        "# removing the 'mi' from odometer and changing their datatypes to float\n",
        "df['odometer'] = df['odometer'].str.extract('([\\d]+)',expand=False).astype(float)"
      ],
      "metadata": {
        "id": "fm8SULuh3-Gd"
      },
      "execution_count": null,
      "outputs": []
    },
    {
      "cell_type": "code",
      "source": [
        "# renaming the columns to reflect the units in the column name\n",
        "df.rename(columns={'odometer': 'odometer/mi'}, inplace=True)\n",
        "df.rename(columns={'mmr': 'mmr/$'}, inplace=True)\n",
        "df.rename(columns={'sellingprice': 'sellingprice/$'}, inplace=True)\n",
        "df.head()"
      ],
      "metadata": {
        "colab": {
          "base_uri": "https://localhost:8080/",
          "height": 424
        },
        "id": "Fbb2oyIcqw7i",
        "outputId": "4f797799-3758-409b-cd63-f53b3800bfff"
      },
      "execution_count": null,
      "outputs": [
        {
          "output_type": "execute_result",
          "data": {
            "text/plain": [
              "   year     make         model   trim          body transmission  \\\n",
              "0  2013  Hyundai        Sonata    GLS         sedan    automatic   \n",
              "1  2014   Toyota       4Runner    SR5           SUV    automatic   \n",
              "2  2012    Lexus        IS 250   Base         Sedan    automatic   \n",
              "3  2002      BMW            X5   4.4i           SUV    automatic   \n",
              "4  2014     Ford  E-Series Van  E-250  E-Series Van    automatic   \n",
              "\n",
              "                 vin state  condition  odometer/mi   color interior  \\\n",
              "0  5npeb4acxdh702805    ma        3.9      50404.0   black     gray   \n",
              "1  jtezu5jr2e5064567    fl        4.9      17846.0    gray        —   \n",
              "2  jthbf5c24c5168599    fl        4.1      21122.0  silver    black   \n",
              "3  5uxfb33562lh33864    fl        1.9     145303.0   black    black   \n",
              "4  1ftne2ew0eda31832    wa        4.9       6714.0   white     gray   \n",
              "\n",
              "                             seller  mmr/$  sellingprice/$  \\\n",
              "0             the hertz corporation  11000           10900   \n",
              "1  award auto sales and leasing inc  28700           29900   \n",
              "2          lexus financial services  22200           24200   \n",
              "3                        peddle llc   3675            3200   \n",
              "4                            u-haul  22500           22100   \n",
              "\n",
              "                                  saledate  \n",
              "0  Tue Jun 02 2015 02:30:00 GMT-0700 (PDT)  \n",
              "1  Wed Feb 18 2015 07:15:00 GMT-0800 (PST)  \n",
              "2  Tue Jan 20 2015 01:30:00 GMT-0800 (PST)  \n",
              "3  Wed Mar 04 2015 07:10:00 GMT-0800 (PST)  \n",
              "4  Wed Feb 18 2015 06:45:00 GMT-0800 (PST)  "
            ],
            "text/html": [
              "\n",
              "  <div id=\"df-4145a266-03b6-408b-8287-3a2371d8e9b7\">\n",
              "    <div class=\"colab-df-container\">\n",
              "      <div>\n",
              "<style scoped>\n",
              "    .dataframe tbody tr th:only-of-type {\n",
              "        vertical-align: middle;\n",
              "    }\n",
              "\n",
              "    .dataframe tbody tr th {\n",
              "        vertical-align: top;\n",
              "    }\n",
              "\n",
              "    .dataframe thead th {\n",
              "        text-align: right;\n",
              "    }\n",
              "</style>\n",
              "<table border=\"1\" class=\"dataframe\">\n",
              "  <thead>\n",
              "    <tr style=\"text-align: right;\">\n",
              "      <th></th>\n",
              "      <th>year</th>\n",
              "      <th>make</th>\n",
              "      <th>model</th>\n",
              "      <th>trim</th>\n",
              "      <th>body</th>\n",
              "      <th>transmission</th>\n",
              "      <th>vin</th>\n",
              "      <th>state</th>\n",
              "      <th>condition</th>\n",
              "      <th>odometer/mi</th>\n",
              "      <th>color</th>\n",
              "      <th>interior</th>\n",
              "      <th>seller</th>\n",
              "      <th>mmr/$</th>\n",
              "      <th>sellingprice/$</th>\n",
              "      <th>saledate</th>\n",
              "    </tr>\n",
              "  </thead>\n",
              "  <tbody>\n",
              "    <tr>\n",
              "      <th>0</th>\n",
              "      <td>2013</td>\n",
              "      <td>Hyundai</td>\n",
              "      <td>Sonata</td>\n",
              "      <td>GLS</td>\n",
              "      <td>sedan</td>\n",
              "      <td>automatic</td>\n",
              "      <td>5npeb4acxdh702805</td>\n",
              "      <td>ma</td>\n",
              "      <td>3.9</td>\n",
              "      <td>50404.0</td>\n",
              "      <td>black</td>\n",
              "      <td>gray</td>\n",
              "      <td>the hertz corporation</td>\n",
              "      <td>11000</td>\n",
              "      <td>10900</td>\n",
              "      <td>Tue Jun 02 2015 02:30:00 GMT-0700 (PDT)</td>\n",
              "    </tr>\n",
              "    <tr>\n",
              "      <th>1</th>\n",
              "      <td>2014</td>\n",
              "      <td>Toyota</td>\n",
              "      <td>4Runner</td>\n",
              "      <td>SR5</td>\n",
              "      <td>SUV</td>\n",
              "      <td>automatic</td>\n",
              "      <td>jtezu5jr2e5064567</td>\n",
              "      <td>fl</td>\n",
              "      <td>4.9</td>\n",
              "      <td>17846.0</td>\n",
              "      <td>gray</td>\n",
              "      <td>—</td>\n",
              "      <td>award auto sales and leasing inc</td>\n",
              "      <td>28700</td>\n",
              "      <td>29900</td>\n",
              "      <td>Wed Feb 18 2015 07:15:00 GMT-0800 (PST)</td>\n",
              "    </tr>\n",
              "    <tr>\n",
              "      <th>2</th>\n",
              "      <td>2012</td>\n",
              "      <td>Lexus</td>\n",
              "      <td>IS 250</td>\n",
              "      <td>Base</td>\n",
              "      <td>Sedan</td>\n",
              "      <td>automatic</td>\n",
              "      <td>jthbf5c24c5168599</td>\n",
              "      <td>fl</td>\n",
              "      <td>4.1</td>\n",
              "      <td>21122.0</td>\n",
              "      <td>silver</td>\n",
              "      <td>black</td>\n",
              "      <td>lexus financial services</td>\n",
              "      <td>22200</td>\n",
              "      <td>24200</td>\n",
              "      <td>Tue Jan 20 2015 01:30:00 GMT-0800 (PST)</td>\n",
              "    </tr>\n",
              "    <tr>\n",
              "      <th>3</th>\n",
              "      <td>2002</td>\n",
              "      <td>BMW</td>\n",
              "      <td>X5</td>\n",
              "      <td>4.4i</td>\n",
              "      <td>SUV</td>\n",
              "      <td>automatic</td>\n",
              "      <td>5uxfb33562lh33864</td>\n",
              "      <td>fl</td>\n",
              "      <td>1.9</td>\n",
              "      <td>145303.0</td>\n",
              "      <td>black</td>\n",
              "      <td>black</td>\n",
              "      <td>peddle llc</td>\n",
              "      <td>3675</td>\n",
              "      <td>3200</td>\n",
              "      <td>Wed Mar 04 2015 07:10:00 GMT-0800 (PST)</td>\n",
              "    </tr>\n",
              "    <tr>\n",
              "      <th>4</th>\n",
              "      <td>2014</td>\n",
              "      <td>Ford</td>\n",
              "      <td>E-Series Van</td>\n",
              "      <td>E-250</td>\n",
              "      <td>E-Series Van</td>\n",
              "      <td>automatic</td>\n",
              "      <td>1ftne2ew0eda31832</td>\n",
              "      <td>wa</td>\n",
              "      <td>4.9</td>\n",
              "      <td>6714.0</td>\n",
              "      <td>white</td>\n",
              "      <td>gray</td>\n",
              "      <td>u-haul</td>\n",
              "      <td>22500</td>\n",
              "      <td>22100</td>\n",
              "      <td>Wed Feb 18 2015 06:45:00 GMT-0800 (PST)</td>\n",
              "    </tr>\n",
              "  </tbody>\n",
              "</table>\n",
              "</div>\n",
              "      <button class=\"colab-df-convert\" onclick=\"convertToInteractive('df-4145a266-03b6-408b-8287-3a2371d8e9b7')\"\n",
              "              title=\"Convert this dataframe to an interactive table.\"\n",
              "              style=\"display:none;\">\n",
              "        \n",
              "  <svg xmlns=\"http://www.w3.org/2000/svg\" height=\"24px\"viewBox=\"0 0 24 24\"\n",
              "       width=\"24px\">\n",
              "    <path d=\"M0 0h24v24H0V0z\" fill=\"none\"/>\n",
              "    <path d=\"M18.56 5.44l.94 2.06.94-2.06 2.06-.94-2.06-.94-.94-2.06-.94 2.06-2.06.94zm-11 1L8.5 8.5l.94-2.06 2.06-.94-2.06-.94L8.5 2.5l-.94 2.06-2.06.94zm10 10l.94 2.06.94-2.06 2.06-.94-2.06-.94-.94-2.06-.94 2.06-2.06.94z\"/><path d=\"M17.41 7.96l-1.37-1.37c-.4-.4-.92-.59-1.43-.59-.52 0-1.04.2-1.43.59L10.3 9.45l-7.72 7.72c-.78.78-.78 2.05 0 2.83L4 21.41c.39.39.9.59 1.41.59.51 0 1.02-.2 1.41-.59l7.78-7.78 2.81-2.81c.8-.78.8-2.07 0-2.86zM5.41 20L4 18.59l7.72-7.72 1.47 1.35L5.41 20z\"/>\n",
              "  </svg>\n",
              "      </button>\n",
              "      \n",
              "  <style>\n",
              "    .colab-df-container {\n",
              "      display:flex;\n",
              "      flex-wrap:wrap;\n",
              "      gap: 12px;\n",
              "    }\n",
              "\n",
              "    .colab-df-convert {\n",
              "      background-color: #E8F0FE;\n",
              "      border: none;\n",
              "      border-radius: 50%;\n",
              "      cursor: pointer;\n",
              "      display: none;\n",
              "      fill: #1967D2;\n",
              "      height: 32px;\n",
              "      padding: 0 0 0 0;\n",
              "      width: 32px;\n",
              "    }\n",
              "\n",
              "    .colab-df-convert:hover {\n",
              "      background-color: #E2EBFA;\n",
              "      box-shadow: 0px 1px 2px rgba(60, 64, 67, 0.3), 0px 1px 3px 1px rgba(60, 64, 67, 0.15);\n",
              "      fill: #174EA6;\n",
              "    }\n",
              "\n",
              "    [theme=dark] .colab-df-convert {\n",
              "      background-color: #3B4455;\n",
              "      fill: #D2E3FC;\n",
              "    }\n",
              "\n",
              "    [theme=dark] .colab-df-convert:hover {\n",
              "      background-color: #434B5C;\n",
              "      box-shadow: 0px 1px 3px 1px rgba(0, 0, 0, 0.15);\n",
              "      filter: drop-shadow(0px 1px 2px rgba(0, 0, 0, 0.3));\n",
              "      fill: #FFFFFF;\n",
              "    }\n",
              "  </style>\n",
              "\n",
              "      <script>\n",
              "        const buttonEl =\n",
              "          document.querySelector('#df-4145a266-03b6-408b-8287-3a2371d8e9b7 button.colab-df-convert');\n",
              "        buttonEl.style.display =\n",
              "          google.colab.kernel.accessAllowed ? 'block' : 'none';\n",
              "\n",
              "        async function convertToInteractive(key) {\n",
              "          const element = document.querySelector('#df-4145a266-03b6-408b-8287-3a2371d8e9b7');\n",
              "          const dataTable =\n",
              "            await google.colab.kernel.invokeFunction('convertToInteractive',\n",
              "                                                     [key], {});\n",
              "          if (!dataTable) return;\n",
              "\n",
              "          const docLinkHtml = 'Like what you see? Visit the ' +\n",
              "            '<a target=\"_blank\" href=https://colab.research.google.com/notebooks/data_table.ipynb>data table notebook</a>'\n",
              "            + ' to learn more about interactive tables.';\n",
              "          element.innerHTML = '';\n",
              "          dataTable['output_type'] = 'display_data';\n",
              "          await google.colab.output.renderOutput(dataTable, element);\n",
              "          const docLink = document.createElement('div');\n",
              "          docLink.innerHTML = docLinkHtml;\n",
              "          element.appendChild(docLink);\n",
              "        }\n",
              "      </script>\n",
              "    </div>\n",
              "  </div>\n",
              "  "
            ]
          },
          "metadata": {},
          "execution_count": 25
        }
      ]
    },
    {
      "cell_type": "code",
      "source": [
        "# checking the datatypes and names were correctly changed\n",
        "df.info()"
      ],
      "metadata": {
        "id": "J2mrzncv39_2",
        "colab": {
          "base_uri": "https://localhost:8080/"
        },
        "outputId": "d8423bb6-13dc-46dc-f4eb-c525119f5334"
      },
      "execution_count": null,
      "outputs": [
        {
          "output_type": "stream",
          "name": "stdout",
          "text": [
            "<class 'pandas.core.frame.DataFrame'>\n",
            "RangeIndex: 46578 entries, 0 to 46577\n",
            "Data columns (total 16 columns):\n",
            " #   Column          Non-Null Count  Dtype  \n",
            "---  ------          --------------  -----  \n",
            " 0   year            46578 non-null  int64  \n",
            " 1   make            46578 non-null  object \n",
            " 2   model           46578 non-null  object \n",
            " 3   trim            46578 non-null  object \n",
            " 4   body            46578 non-null  object \n",
            " 5   transmission    46578 non-null  object \n",
            " 6   vin             46578 non-null  object \n",
            " 7   state           46578 non-null  object \n",
            " 8   condition       46578 non-null  float64\n",
            " 9   odometer/mi     46578 non-null  float64\n",
            " 10  color           46578 non-null  object \n",
            " 11  interior        46578 non-null  object \n",
            " 12  seller          46578 non-null  object \n",
            " 13  mmr/$           46578 non-null  int64  \n",
            " 14  sellingprice/$  46578 non-null  int64  \n",
            " 15  saledate        46578 non-null  object \n",
            "dtypes: float64(2), int64(3), object(11)\n",
            "memory usage: 5.7+ MB\n"
          ]
        }
      ]
    },
    {
      "cell_type": "code",
      "source": [
        "# renaming all sedan body values\n",
        "df = df.replace(['sedan'], 'Sedan')\n",
        "df = df.replace(['G Sedan'], 'Sedan')\n",
        "df = df.replace(['g Sedan'], 'Sedan')\n",
        "df = df.replace(['g sedan'], 'Sedan')"
      ],
      "metadata": {
        "id": "W6CTJ18a5FZO"
      },
      "execution_count": null,
      "outputs": []
    },
    {
      "cell_type": "code",
      "source": [
        "# renaming all coupe body values\n",
        "df = df.replace(['coupe'], 'Coupe')\n",
        "df = df.replace(['G Coupe'], 'Coupe')\n",
        "df = df.replace(['g coupe'], 'Coupe')\n",
        "df = df.replace(['Genesis Coupe'], 'Coupe')\n",
        "df = df.replace(['genesis coupe'], 'Coupe')\n",
        "df = df.replace(['Koup'], 'Coupe')\n",
        "df = df.replace(['Elantra Coupe'], 'Coupe')\n",
        "df = df.replace(['CTS-V Coupe'], 'Coupe')\n",
        "df = df.replace(['CTS Coupe'], 'Coupe')\n",
        "df = df.replace(['cts coupe'], 'Coupe')\n",
        "df = df.replace(['Q60 Coupe'], 'Coupe')"
      ],
      "metadata": {
        "id": "BUWbQRwU56Kz"
      },
      "execution_count": null,
      "outputs": []
    },
    {
      "cell_type": "code",
      "source": [
        "# renaming all convertible body values\n",
        "df = df.replace(['convertible'], 'Convertible')\n",
        "df = df.replace(['G Convertible'], 'Convertible')\n",
        "df = df.replace(['Beetle Convertible'], 'Convertible')\n",
        "df = df.replace(['G37 Convertible'], 'Convertible')\n",
        "df = df.replace(['Q60 Convertible'], 'Convertible')\n",
        "df = df.replace(['GranTurismo Convertible'], 'Convertible')\n",
        "df = df.replace(['beetle convertible'], 'Convertible')\n",
        "df = df.replace(['g convertible'], 'Convertible')\n",
        "df = df.replace(['granturismo convertible'], 'Convertible')"
      ],
      "metadata": {
        "id": "Ieqfd_CR6tkW"
      },
      "execution_count": null,
      "outputs": []
    },
    {
      "cell_type": "code",
      "source": [
        "# renaming all hatchback body values\n",
        "df = df.replace(['hatchback'], 'Hatchback')"
      ],
      "metadata": {
        "id": "RTz3yZBx7W9_"
      },
      "execution_count": null,
      "outputs": []
    },
    {
      "cell_type": "code",
      "source": [
        "# renaming all suv body values\n",
        "df = df.replace(['suv'], 'SUV')"
      ],
      "metadata": {
        "id": "lT2f0nwp7YDo"
      },
      "execution_count": null,
      "outputs": []
    },
    {
      "cell_type": "code",
      "source": [
        "# renaming all minivan body values\n",
        "df = df.replace(['van'], 'Minivan')\n",
        "df = df.replace(['Van'], 'Minivan')\n",
        "df = df.replace(['minivan'], 'Minivan')\n",
        "df = df.replace(['e-series van'], 'Minivan')\n",
        "df = df.replace(['promaster cargo van'], 'Minivan')\n",
        "df = df.replace(['Promaster Cargo Van'], 'Minivan')\n",
        "df = df.replace(['Transit Van'], 'Minivan')\n",
        "df = df.replace(['E-Series Van'], 'Minivan')"
      ],
      "metadata": {
        "id": "mmAhWOSj7zkp"
      },
      "execution_count": null,
      "outputs": []
    },
    {
      "cell_type": "code",
      "source": [
        "# renaming all wagon body values\n",
        "df = df.replace(['wagon'], 'Wagon')\n",
        "df = df.replace(['CTS Wagon'], 'Wagon')\n",
        "df = df.replace(['TSX Sport Wagon'], 'Wagon')\n",
        "df = df.replace(['tsx sport wagon'], 'Wagon')"
      ],
      "metadata": {
        "id": "dQOXPJZp8omn"
      },
      "execution_count": null,
      "outputs": []
    },
    {
      "cell_type": "code",
      "source": [
        "# renaming all pickup truck body values\n",
        "df = df.replace(['Crew Cab'], 'Pickup Truck')\n",
        "df = df.replace(['Regular Cab'], 'Pickup Truck')\n",
        "df = df.replace(['Double Cab'], 'Pickup Truck')\n",
        "df = df.replace(['SuperCrew'], 'Pickup Truck')\n",
        "df = df.replace(['Extended Cab'], 'Pickup Truck')\n",
        "df = df.replace(['SuperCab'], 'Pickup Truck')\n",
        "df = df.replace(['king cab'], 'Pickup Truck')\n",
        "df = df.replace(['King Cab'], 'Pickup Truck')\n",
        "df = df.replace(['extended cab'], 'Pickup Truck')\n",
        "df = df.replace(['quad cab'], 'Pickup Truck')\n",
        "df = df.replace(['supercab'], 'Pickup Truck')\n",
        "df = df.replace(['Quad Cab'], 'Pickup Truck')\n",
        "df = df.replace(['crew cab'], 'Pickup Truck')\n",
        "df = df.replace(['supercrew'], 'Pickup Truck')\n",
        "df = df.replace(['CrewMax Cab'], 'Pickup Truck')\n",
        "df = df.replace(['double cab'], 'Pickup Truck')\n",
        "df = df.replace(['Club Cab'], 'Pickup Truck')\n",
        "df = df.replace(['Access Cab'], 'Pickup Truck')\n",
        "df = df.replace(['Cab Plus 4'], 'Pickup Truck')\n",
        "df = df.replace(['crewmax cab'], 'Pickup Truck')\n",
        "df = df.replace(['access cab'], 'Pickup Truck')\n",
        "df = df.replace(['Mega Cab'], 'Pickup Truck')\n",
        "df = df.replace(['regular cab'], 'Pickup Truck')\n",
        "df = df.replace(['mega cab'], 'Pickup Truck')\n",
        "df = df.replace(['regular-cab'], 'Pickup Truck')\n",
        "df = df.replace(['Xtracab'], 'Pickup Truck')\n",
        "df = df.replace(['xtracab'], 'Pickup Truck')"
      ],
      "metadata": {
        "id": "EIqzzR7Q9O7H"
      },
      "execution_count": null,
      "outputs": []
    },
    {
      "cell_type": "code",
      "source": [
        "# checking that all categories have been replaced\n",
        "df.body.unique()"
      ],
      "metadata": {
        "colab": {
          "base_uri": "https://localhost:8080/"
        },
        "id": "-yWzfZn-lSME",
        "outputId": "b851b721-667b-4425-afc6-95a3b3d801c5"
      },
      "execution_count": null,
      "outputs": [
        {
          "output_type": "execute_result",
          "data": {
            "text/plain": [
              "array(['Sedan', 'SUV', 'Minivan', 'Pickup Truck', 'Wagon', 'Coupe',\n",
              "       'Convertible', 'Hatchback'], dtype=object)"
            ]
          },
          "metadata": {},
          "execution_count": 35
        }
      ]
    },
    {
      "cell_type": "code",
      "source": [
        "# replacing the '-' values with 'UNKNOWN'\n",
        "df['interior'] = df['interior'].replace(['—'], 'UNKNOWN')\n",
        "df['interior'].unique()"
      ],
      "metadata": {
        "colab": {
          "base_uri": "https://localhost:8080/"
        },
        "id": "cWILSSWeqbXv",
        "outputId": "4f51de28-1ff0-4043-9f1e-1aa58d1f2be5"
      },
      "execution_count": null,
      "outputs": [
        {
          "output_type": "execute_result",
          "data": {
            "text/plain": [
              "array(['gray', 'UNKNOWN', 'black', 'beige', 'tan', 'red', 'blue', 'brown',\n",
              "       'off-white', 'silver', 'orange', 'purple', 'white', 'gold',\n",
              "       'burgundy', 'green', 'yellow'], dtype=object)"
            ]
          },
          "metadata": {},
          "execution_count": 36
        }
      ]
    },
    {
      "cell_type": "code",
      "source": [
        "# replacing the '-' values with 'UNKNOWN'\n",
        "df['color'] = df['color'].replace(['—'], 'UNKNOWN')\n",
        "df['color'].unique()"
      ],
      "metadata": {
        "colab": {
          "base_uri": "https://localhost:8080/"
        },
        "id": "pEqfCNc3rP99",
        "outputId": "4d08461e-26b9-4e1f-ab32-982680909e42"
      },
      "execution_count": null,
      "outputs": [
        {
          "output_type": "execute_result",
          "data": {
            "text/plain": [
              "array(['black', 'gray', 'silver', 'white', 'blue', 'burgundy', 'beige',\n",
              "       'gold', 'green', 'red', 'purple', 'UNKNOWN', 'yellow', 'brown',\n",
              "       'turquoise', 'orange', 'off-white', 'charcoal', 'pink', 'lime'],\n",
              "      dtype=object)"
            ]
          },
          "metadata": {},
          "execution_count": 37
        }
      ]
    },
    {
      "cell_type": "markdown",
      "metadata": {
        "id": "F2tVTSGW2OOv"
      },
      "source": [
        "## Exploratory Data Analysis\n"
      ]
    },
    {
      "cell_type": "markdown",
      "metadata": {
        "id": "vhBNJY5G2OOv"
      },
      "source": [
        "**Q0 (example): What is the most popular car exterior color?**\n"
      ]
    },
    {
      "cell_type": "markdown",
      "metadata": {
        "id": "4IW4XSZt2OOw"
      },
      "source": [
        "**Visualization**"
      ]
    },
    {
      "cell_type": "code",
      "execution_count": null,
      "metadata": {
        "id": "087zhgGC2OOw",
        "outputId": "1930a229-9df1-4990-996c-0fa63a3d362b",
        "colab": {
          "base_uri": "https://localhost:8080/",
          "height": 378
        }
      },
      "outputs": [
        {
          "output_type": "execute_result",
          "data": {
            "text/plain": [
              "<matplotlib.axes._subplots.AxesSubplot at 0x7fe639bfe390>"
            ]
          },
          "metadata": {},
          "execution_count": 38
        },
        {
          "output_type": "display_data",
          "data": {
            "text/plain": [
              "<Figure size 576x396 with 1 Axes>"
            ],
            "image/png": "[encoded data removed]"
          },
          "metadata": {}
        }
      ],
      "source": [
        "# Basic, minimal plot example\n",
        "sns.countplot(x='color', data=df)"
      ]
    },
    {
      "cell_type": "code",
      "execution_count": null,
      "metadata": {
        "id": "21fTEZT32OOw",
        "outputId": "2110efa8-a506-40be-8641-e29febe4dc5f",
        "colab": {
          "base_uri": "https://localhost:8080/",
          "height": 405
        }
      },
      "outputs": [
        {
          "output_type": "display_data",
          "data": {
            "text/plain": [
              "<Figure size 576x396 with 1 Axes>"
            ],
            "image/png": "[encoded data removed]"
          },
          "metadata": {}
        }
      ],
      "source": [
        "# Much better plot, with sorting in descending order, rotated x-axis labels for clarity, and a plot title\n",
        "# Your visualizations should be neatly presented like the example below.\n",
        "large_to_small = df.groupby('color').size().sort_values(ascending=False)\n",
        "sns.countplot(x='color', data=df, order=large_to_small.index).set(title='Most popular colors sold on the used car auction market')\n",
        "plt.xticks(rotation=90)\n",
        "plt.tight_layout()"
      ]
    },
    {
      "cell_type": "markdown",
      "metadata": {
        "id": "DCkug8-62OOx"
      },
      "source": [
        "**Example note:** _you need to answer using a visualization (above) and a written/text answer (below)._\n",
        "\n",
        "**Answer for Q0**: Black is the most popular exterior color of used cars sold in auctions, followed very closely by white."
      ]
    },
    {
      "cell_type": "markdown",
      "metadata": {
        "id": "VND_Spel2OOx"
      },
      "source": [
        "**Q1: What are the most popular car brands? (mention at least 3)**\n"
      ]
    },
    {
      "cell_type": "markdown",
      "metadata": {
        "id": "N_YjgrwD2OOx"
      },
      "source": [
        "**Visualization**"
      ]
    },
    {
      "cell_type": "code",
      "execution_count": null,
      "metadata": {
        "id": "8MDEeGWI2OOx",
        "colab": {
          "base_uri": "https://localhost:8080/",
          "height": 405
        },
        "outputId": "47f43811-2e0a-469f-bf18-b19c56f805fc"
      },
      "outputs": [
        {
          "output_type": "display_data",
          "data": {
            "text/plain": [
              "<Figure size 576x396 with 1 Axes>"
            ],
            "image/png": "[encoded data removed]"
          },
          "metadata": {}
        }
      ],
      "source": [
        "# plotting a count plot for brands\n",
        "large_to_small = df.groupby('make').size().sort_values(ascending=False)\n",
        "sns.countplot(x='make', data=df, order=large_to_small.index).set(title='Most popular car brands sold on the used car auction market')\n",
        "plt.xticks(rotation=90)\n",
        "plt.tight_layout()"
      ]
    },
    {
      "cell_type": "markdown",
      "metadata": {
        "id": "JFUDDw5r2OOx"
      },
      "source": [
        "**Answer for Q1**: The 3 most popular car brands are Ford, Chevrolet and Nissan."
      ]
    },
    {
      "cell_type": "markdown",
      "metadata": {
        "id": "ody5uh-S2OOy"
      },
      "source": [
        "**Q2: Do automatic cars, on average, sell for a higher price than manual cars?**\n"
      ]
    },
    {
      "cell_type": "markdown",
      "metadata": {
        "id": "L_q1TZW42OOy"
      },
      "source": [
        "**Visualization**"
      ]
    },
    {
      "cell_type": "code",
      "execution_count": null,
      "metadata": {
        "id": "f6q8HVTg2OOy",
        "colab": {
          "base_uri": "https://localhost:8080/",
          "height": 620
        },
        "outputId": "ec3f967f-de25-4029-a026-9476f4bac9a3"
      },
      "outputs": [
        {
          "output_type": "display_data",
          "data": {
            "text/plain": [
              "<Figure size 1440x720 with 1 Axes>"
            ],
            "image/png": "[encoded data removed]"
          },
          "metadata": {}
        }
      ],
      "source": [
        "# plotting a bar plot for transmission against price\n",
        "plt.figure(figsize=(20,10))\n",
        "sns.barplot(x='transmission', y='sellingprice/$', data=df, palette='Wistia').set(title='Average price against transmission price for cars sold on the used car auction market');"
      ]
    },
    {
      "cell_type": "markdown",
      "metadata": {
        "id": "JWnHsLFi2OOy"
      },
      "source": [
        "**Answer for Q2**: Yes, the average price for automatic transmission cars is higher than that for the manual transmission cars."
      ]
    },
    {
      "cell_type": "markdown",
      "metadata": {
        "id": "S_LogAP52OOz"
      },
      "source": [
        "**Q3: Draw a box plot showing the distribution of the selling prices of each car make. Which car makes have the widest distribution of selling price (name two)? Which are the most expensive (name two)?**\n"
      ]
    },
    {
      "cell_type": "markdown",
      "metadata": {
        "id": "1Ke5xpx12OOz"
      },
      "source": [
        "**Visualization**"
      ]
    },
    {
      "cell_type": "code",
      "execution_count": null,
      "metadata": {
        "id": "LhhG-Hjs2OOz",
        "colab": {
          "base_uri": "https://localhost:8080/",
          "height": 776
        },
        "outputId": "b89fabfa-4da2-4195-8136-8972d1952545"
      },
      "outputs": [
        {
          "output_type": "display_data",
          "data": {
            "text/plain": [
              "<Figure size 2160x1080 with 1 Axes>"
            ],
            "image/png": "[encoded data removed]"
          },
          "metadata": {}
        }
      ],
      "source": [
        "# plotting a box plot for make against selling price\n",
        "plt.figure(figsize=(30,15))\n",
        "sns.violinplot(x='make', y='sellingprice/$', data=df, palette='Wistia').set(title='Average price against car make for cars sold on the used car auction market');\n",
        "plt.xticks(rotation = 90);"
      ]
    },
    {
      "cell_type": "markdown",
      "metadata": {
        "id": "eq1Wf9ce2OOz"
      },
      "source": [
        "**Answer for Q3**: The brands that have the widest distribution are Ford and Bentley. The two brands that sell the most expensive cars are Ford and Bentley."
      ]
    },
    {
      "cell_type": "markdown",
      "metadata": {
        "id": "Mp58sqwH2OOz"
      },
      "source": [
        "**Q4: How correlated is the odometer reading or mileage with the car's sale price? (Hint: plot a line of best fit.)**"
      ]
    },
    {
      "cell_type": "markdown",
      "metadata": {
        "id": "RYgaPHOG2OOz"
      },
      "source": [
        "**Visualization**"
      ]
    },
    {
      "cell_type": "code",
      "execution_count": null,
      "metadata": {
        "id": "mxw-omnq2OO0",
        "colab": {
          "base_uri": "https://localhost:8080/",
          "height": 1000
        },
        "outputId": "043afdff-5ac6-41da-fa1a-e7d253ebc4f3"
      },
      "outputs": [
        {
          "output_type": "display_data",
          "data": {
            "text/plain": [
              "<Figure size 1080x1080 with 1 Axes>"
            ],
            "image/png": "[encoded data removed]"
          },
          "metadata": {}
        }
      ],
      "source": [
        "# plotting a scatter plot with a line of best fit for mileage against selling price\n",
        "sns.lmplot(x='odometer/mi', y='sellingprice/$', data=df, height = 15).set(title='Mileage Against price for cars sold on the used car auction market');"
      ]
    },
    {
      "cell_type": "markdown",
      "metadata": {
        "id": "p2gCp7iU2OO0"
      },
      "source": [
        "**Answer for Q4**: There is a medium to high negative correlation."
      ]
    },
    {
      "cell_type": "markdown",
      "metadata": {
        "id": "c367wdRg2OO0"
      },
      "source": [
        "**Q5: Likewise, how correlated is the car's condition with its sale price? (Hint: plot a line of best fit.)**"
      ]
    },
    {
      "cell_type": "markdown",
      "metadata": {
        "id": "6OUmCl6p2OO0"
      },
      "source": [
        "**Visualization**"
      ]
    },
    {
      "cell_type": "code",
      "execution_count": null,
      "metadata": {
        "id": "LFMm-wWF2OO0",
        "colab": {
          "base_uri": "https://localhost:8080/",
          "height": 1000
        },
        "outputId": "0f458f05-04bc-4f73-cee9-abcf27bda6b0"
      },
      "outputs": [
        {
          "output_type": "display_data",
          "data": {
            "text/plain": [
              "<Figure size 1080x1080 with 1 Axes>"
            ],
            "image/png": "[encoded data removed]"
          },
          "metadata": {}
        }
      ],
      "source": [
        "# plotting a scatter plot with a line of best fit for condition against selling price\n",
        "sns.lmplot(x='condition', y='sellingprice/$', data=df, height = 15).set(title='Condition Against price for cars sold on the used car auction market');"
      ]
    },
    {
      "cell_type": "markdown",
      "metadata": {
        "id": "fKzP8KkF2OO0"
      },
      "source": [
        "**Answer for Q5**: There is a medium to high positive correlation."
      ]
    },
    {
      "cell_type": "markdown",
      "metadata": {
        "id": "-I7VxdZS2OO0"
      },
      "source": [
        "**Q6: Are there differences in the average car price due to the car's body type? If so, rank their order and state the most expensive and least expensive car body type.**"
      ]
    },
    {
      "cell_type": "markdown",
      "metadata": {
        "id": "MFEOpIv82OO0"
      },
      "source": [
        "**Visualization**"
      ]
    },
    {
      "cell_type": "code",
      "source": [
        "# preparing the order\n",
        "large_to_small = df.groupby([\"body\"])['sellingprice/$'].aggregate(np.mean).reset_index().sort_values('sellingprice/$')\n",
        "large_to_small"
      ],
      "metadata": {
        "colab": {
          "base_uri": "https://localhost:8080/",
          "height": 300
        },
        "id": "f9t3M31StpmS",
        "outputId": "b709b6eb-b8c9-42a2-a6f9-75f5f13c9e25"
      },
      "execution_count": null,
      "outputs": [
        {
          "output_type": "execute_result",
          "data": {
            "text/plain": [
              "           body  sellingprice/$\n",
              "7         Wagon     9872.678720\n",
              "2     Hatchback    10320.636123\n",
              "6         Sedan    11861.795912\n",
              "3       Minivan    11981.053571\n",
              "5           SUV    16221.941270\n",
              "1         Coupe    16538.921097\n",
              "0   Convertible    17581.563278\n",
              "4  Pickup Truck    17981.766407"
            ],
            "text/html": [
              "\n",
              "  <div id=\"df-fea7c6b0-11f0-4ed4-855a-d4c410ab5ac3\">\n",
              "    <div class=\"colab-df-container\">\n",
              "      <div>\n",
              "<style scoped>\n",
              "    .dataframe tbody tr th:only-of-type {\n",
              "        vertical-align: middle;\n",
              "    }\n",
              "\n",
              "    .dataframe tbody tr th {\n",
              "        vertical-align: top;\n",
              "    }\n",
              "\n",
              "    .dataframe thead th {\n",
              "        text-align: right;\n",
              "    }\n",
              "</style>\n",
              "<table border=\"1\" class=\"dataframe\">\n",
              "  <thead>\n",
              "    <tr style=\"text-align: right;\">\n",
              "      <th></th>\n",
              "      <th>body</th>\n",
              "      <th>sellingprice/$</th>\n",
              "    </tr>\n",
              "  </thead>\n",
              "  <tbody>\n",
              "    <tr>\n",
              "      <th>7</th>\n",
              "      <td>Wagon</td>\n",
              "      <td>9872.678720</td>\n",
              "    </tr>\n",
              "    <tr>\n",
              "      <th>2</th>\n",
              "      <td>Hatchback</td>\n",
              "      <td>10320.636123</td>\n",
              "    </tr>\n",
              "    <tr>\n",
              "      <th>6</th>\n",
              "      <td>Sedan</td>\n",
              "      <td>11861.795912</td>\n",
              "    </tr>\n",
              "    <tr>\n",
              "      <th>3</th>\n",
              "      <td>Minivan</td>\n",
              "      <td>11981.053571</td>\n",
              "    </tr>\n",
              "    <tr>\n",
              "      <th>5</th>\n",
              "      <td>SUV</td>\n",
              "      <td>16221.941270</td>\n",
              "    </tr>\n",
              "    <tr>\n",
              "      <th>1</th>\n",
              "      <td>Coupe</td>\n",
              "      <td>16538.921097</td>\n",
              "    </tr>\n",
              "    <tr>\n",
              "      <th>0</th>\n",
              "      <td>Convertible</td>\n",
              "      <td>17581.563278</td>\n",
              "    </tr>\n",
              "    <tr>\n",
              "      <th>4</th>\n",
              "      <td>Pickup Truck</td>\n",
              "      <td>17981.766407</td>\n",
              "    </tr>\n",
              "  </tbody>\n",
              "</table>\n",
              "</div>\n",
              "      <button class=\"colab-df-convert\" onclick=\"convertToInteractive('df-fea7c6b0-11f0-4ed4-855a-d4c410ab5ac3')\"\n",
              "              title=\"Convert this dataframe to an interactive table.\"\n",
              "              style=\"display:none;\">\n",
              "        \n",
              "  <svg xmlns=\"http://www.w3.org/2000/svg\" height=\"24px\"viewBox=\"0 0 24 24\"\n",
              "       width=\"24px\">\n",
              "    <path d=\"M0 0h24v24H0V0z\" fill=\"none\"/>\n",
              "    <path d=\"M18.56 5.44l.94 2.06.94-2.06 2.06-.94-2.06-.94-.94-2.06-.94 2.06-2.06.94zm-11 1L8.5 8.5l.94-2.06 2.06-.94-2.06-.94L8.5 2.5l-.94 2.06-2.06.94zm10 10l.94 2.06.94-2.06 2.06-.94-2.06-.94-.94-2.06-.94 2.06-2.06.94z\"/><path d=\"M17.41 7.96l-1.37-1.37c-.4-.4-.92-.59-1.43-.59-.52 0-1.04.2-1.43.59L10.3 9.45l-7.72 7.72c-.78.78-.78 2.05 0 2.83L4 21.41c.39.39.9.59 1.41.59.51 0 1.02-.2 1.41-.59l7.78-7.78 2.81-2.81c.8-.78.8-2.07 0-2.86zM5.41 20L4 18.59l7.72-7.72 1.47 1.35L5.41 20z\"/>\n",
              "  </svg>\n",
              "      </button>\n",
              "      \n",
              "  <style>\n",
              "    .colab-df-container {\n",
              "      display:flex;\n",
              "      flex-wrap:wrap;\n",
              "      gap: 12px;\n",
              "    }\n",
              "\n",
              "    .colab-df-convert {\n",
              "      background-color: #E8F0FE;\n",
              "      border: none;\n",
              "      border-radius: 50%;\n",
              "      cursor: pointer;\n",
              "      display: none;\n",
              "      fill: #1967D2;\n",
              "      height: 32px;\n",
              "      padding: 0 0 0 0;\n",
              "      width: 32px;\n",
              "    }\n",
              "\n",
              "    .colab-df-convert:hover {\n",
              "      background-color: #E2EBFA;\n",
              "      box-shadow: 0px 1px 2px rgba(60, 64, 67, 0.3), 0px 1px 3px 1px rgba(60, 64, 67, 0.15);\n",
              "      fill: #174EA6;\n",
              "    }\n",
              "\n",
              "    [theme=dark] .colab-df-convert {\n",
              "      background-color: #3B4455;\n",
              "      fill: #D2E3FC;\n",
              "    }\n",
              "\n",
              "    [theme=dark] .colab-df-convert:hover {\n",
              "      background-color: #434B5C;\n",
              "      box-shadow: 0px 1px 3px 1px rgba(0, 0, 0, 0.15);\n",
              "      filter: drop-shadow(0px 1px 2px rgba(0, 0, 0, 0.3));\n",
              "      fill: #FFFFFF;\n",
              "    }\n",
              "  </style>\n",
              "\n",
              "      <script>\n",
              "        const buttonEl =\n",
              "          document.querySelector('#df-fea7c6b0-11f0-4ed4-855a-d4c410ab5ac3 button.colab-df-convert');\n",
              "        buttonEl.style.display =\n",
              "          google.colab.kernel.accessAllowed ? 'block' : 'none';\n",
              "\n",
              "        async function convertToInteractive(key) {\n",
              "          const element = document.querySelector('#df-fea7c6b0-11f0-4ed4-855a-d4c410ab5ac3');\n",
              "          const dataTable =\n",
              "            await google.colab.kernel.invokeFunction('convertToInteractive',\n",
              "                                                     [key], {});\n",
              "          if (!dataTable) return;\n",
              "\n",
              "          const docLinkHtml = 'Like what you see? Visit the ' +\n",
              "            '<a target=\"_blank\" href=https://colab.research.google.com/notebooks/data_table.ipynb>data table notebook</a>'\n",
              "            + ' to learn more about interactive tables.';\n",
              "          element.innerHTML = '';\n",
              "          dataTable['output_type'] = 'display_data';\n",
              "          await google.colab.output.renderOutput(dataTable, element);\n",
              "          const docLink = document.createElement('div');\n",
              "          docLink.innerHTML = docLinkHtml;\n",
              "          element.appendChild(docLink);\n",
              "        }\n",
              "      </script>\n",
              "    </div>\n",
              "  </div>\n",
              "  "
            ]
          },
          "metadata": {},
          "execution_count": 45
        }
      ]
    },
    {
      "cell_type": "code",
      "execution_count": null,
      "metadata": {
        "id": "rmNSE2Fa2OO0",
        "colab": {
          "base_uri": "https://localhost:8080/",
          "height": 620
        },
        "outputId": "b7e2757e-fa9b-4aee-b759-4a1537a42f0c"
      },
      "outputs": [
        {
          "output_type": "display_data",
          "data": {
            "text/plain": [
              "<Figure size 1440x720 with 1 Axes>"
            ],
            "image/png": "[encoded data removed]"
          },
          "metadata": {}
        }
      ],
      "source": [
        "# plotting a bar chart for body type against selling price\n",
        "plt.figure(figsize=(20,10))\n",
        "sns.barplot(x='body', y='sellingprice/$', data=df,order=large_to_small['body'], palette='Wistia').set(title='Body type price against price for cars sold on the used car auction market');"
      ]
    },
    {
      "cell_type": "markdown",
      "metadata": {
        "id": "lzmeMeIx2OO1"
      },
      "source": [
        "**Answer for Q6**: Yes, there are differences. If we do not take outliers into account, the least expensive on average is Wagon, while the most expensive on average is Pickup Truck."
      ]
    },
    {
      "cell_type": "markdown",
      "metadata": {
        "id": "s7lIiOZo2OO1"
      },
      "source": [
        "## Data Preparation for Modelling\n",
        "\n",
        "_Apply any additional data preparation steps needed before modelling below. Show/output the changes to the dataset._"
      ]
    },
    {
      "cell_type": "code",
      "source": [
        "# label encoding make, body, transmission, color and interior to easily display the correlation coefficients, and checking if encoding has worked\n",
        "from sklearn import preprocessing\n",
        "\n",
        "temp_encode=df.copy()\n",
        "label_encoder = preprocessing.LabelEncoder()\n",
        "\n",
        "temp_encode['make']= label_encoder.fit_transform(temp_encode['make'])\n",
        "temp_encode['body']= label_encoder.fit_transform(temp_encode['body'])\n",
        "temp_encode['transmission']= label_encoder.fit_transform(temp_encode['transmission'])\n",
        "temp_encode['color']= label_encoder.fit_transform(temp_encode['color'])\n",
        "temp_encode['interior']= label_encoder.fit_transform(temp_encode['interior'])\n",
        "\n",
        "temp_encode['color'].unique()"
      ],
      "metadata": {
        "colab": {
          "base_uri": "https://localhost:8080/"
        },
        "id": "HhXCEsNu3_md",
        "outputId": "d7973479-c01d-472e-fc5e-e68482176ada"
      },
      "execution_count": null,
      "outputs": [
        {
          "output_type": "execute_result",
          "data": {
            "text/plain": [
              "array([ 2,  8, 16, 18,  3,  5,  1,  7,  9, 15, 14,  0, 19,  4, 17, 12, 11,\n",
              "        6, 13, 10])"
            ]
          },
          "metadata": {},
          "execution_count": 103
        }
      ]
    },
    {
      "cell_type": "code",
      "source": [
        "# checking variable correlation\n",
        "temp_encode.corr()"
      ],
      "metadata": {
        "id": "BbOkwLw78eZx",
        "outputId": "7585e67a-2fd9-418e-ef98-e87d8d3cca12",
        "colab": {
          "base_uri": "https://localhost:8080/",
          "height": 363
        }
      },
      "execution_count": null,
      "outputs": [
        {
          "output_type": "execute_result",
          "data": {
            "text/plain": [
              "                    year      make      body  transmission  condition  \\\n",
              "year            1.000000 -0.006189  0.040194     -0.089053   0.549158   \n",
              "make           -0.006189  1.000000  0.065166      0.045072  -0.014931   \n",
              "body            0.040194  0.065166  1.000000     -0.147859  -0.021260   \n",
              "transmission   -0.089053  0.045072 -0.147859      1.000000  -0.032498   \n",
              "condition       0.549158 -0.014931 -0.021260     -0.032498   1.000000   \n",
              "odometer/mi    -0.777219 -0.030084 -0.001772      0.033408  -0.540371   \n",
              "color           0.000426 -0.008882 -0.025853     -0.011277   0.013068   \n",
              "interior       -0.191070  0.001877  0.022084     -0.031902  -0.105672   \n",
              "mmr/$           0.592904 -0.058722 -0.106182     -0.045022   0.476200   \n",
              "sellingprice/$  0.581164 -0.055571 -0.106170     -0.049499   0.529141   \n",
              "\n",
              "                odometer/mi     color  interior     mmr/$  sellingprice/$  \n",
              "year              -0.777219  0.000426 -0.191070  0.592904        0.581164  \n",
              "make              -0.030084 -0.008882  0.001877 -0.058722       -0.055571  \n",
              "body              -0.001772 -0.025853  0.022084 -0.106182       -0.106170  \n",
              "transmission       0.033408 -0.011277 -0.031902 -0.045022       -0.049499  \n",
              "condition         -0.540371  0.013068 -0.105672  0.476200        0.529141  \n",
              "odometer/mi        1.000000  0.026899  0.170697 -0.587920       -0.580900  \n",
              "color              0.026899  1.000000  0.030132 -0.043646       -0.038656  \n",
              "interior           0.170697  0.030132  1.000000 -0.140924       -0.137056  \n",
              "mmr/$             -0.587920 -0.043646 -0.140924  1.000000        0.979783  \n",
              "sellingprice/$    -0.580900 -0.038656 -0.137056  0.979783        1.000000  "
            ],
            "text/html": [
              "\n",
              "  <div id=\"df-31e83d32-7920-4723-929a-75a4f530e243\">\n",
              "    <div class=\"colab-df-container\">\n",
              "      <div>\n",
              "<style scoped>\n",
              "    .dataframe tbody tr th:only-of-type {\n",
              "        vertical-align: middle;\n",
              "    }\n",
              "\n",
              "    .dataframe tbody tr th {\n",
              "        vertical-align: top;\n",
              "    }\n",
              "\n",
              "    .dataframe thead th {\n",
              "        text-align: right;\n",
              "    }\n",
              "</style>\n",
              "<table border=\"1\" class=\"dataframe\">\n",
              "  <thead>\n",
              "    <tr style=\"text-align: right;\">\n",
              "      <th></th>\n",
              "      <th>year</th>\n",
              "      <th>make</th>\n",
              "      <th>body</th>\n",
              "      <th>transmission</th>\n",
              "      <th>condition</th>\n",
              "      <th>odometer/mi</th>\n",
              "      <th>color</th>\n",
              "      <th>interior</th>\n",
              "      <th>mmr/$</th>\n",
              "      <th>sellingprice/$</th>\n",
              "    </tr>\n",
              "  </thead>\n",
              "  <tbody>\n",
              "    <tr>\n",
              "      <th>year</th>\n",
              "      <td>1.000000</td>\n",
              "      <td>-0.006189</td>\n",
              "      <td>0.040194</td>\n",
              "      <td>-0.089053</td>\n",
              "      <td>0.549158</td>\n",
              "      <td>-0.777219</td>\n",
              "      <td>0.000426</td>\n",
              "      <td>-0.191070</td>\n",
              "      <td>0.592904</td>\n",
              "      <td>0.581164</td>\n",
              "    </tr>\n",
              "    <tr>\n",
              "      <th>make</th>\n",
              "      <td>-0.006189</td>\n",
              "      <td>1.000000</td>\n",
              "      <td>0.065166</td>\n",
              "      <td>0.045072</td>\n",
              "      <td>-0.014931</td>\n",
              "      <td>-0.030084</td>\n",
              "      <td>-0.008882</td>\n",
              "      <td>0.001877</td>\n",
              "      <td>-0.058722</td>\n",
              "      <td>-0.055571</td>\n",
              "    </tr>\n",
              "    <tr>\n",
              "      <th>body</th>\n",
              "      <td>0.040194</td>\n",
              "      <td>0.065166</td>\n",
              "      <td>1.000000</td>\n",
              "      <td>-0.147859</td>\n",
              "      <td>-0.021260</td>\n",
              "      <td>-0.001772</td>\n",
              "      <td>-0.025853</td>\n",
              "      <td>0.022084</td>\n",
              "      <td>-0.106182</td>\n",
              "      <td>-0.106170</td>\n",
              "    </tr>\n",
              "    <tr>\n",
              "      <th>transmission</th>\n",
              "      <td>-0.089053</td>\n",
              "      <td>0.045072</td>\n",
              "      <td>-0.147859</td>\n",
              "      <td>1.000000</td>\n",
              "      <td>-0.032498</td>\n",
              "      <td>0.033408</td>\n",
              "      <td>-0.011277</td>\n",
              "      <td>-0.031902</td>\n",
              "      <td>-0.045022</td>\n",
              "      <td>-0.049499</td>\n",
              "    </tr>\n",
              "    <tr>\n",
              "      <th>condition</th>\n",
              "      <td>0.549158</td>\n",
              "      <td>-0.014931</td>\n",
              "      <td>-0.021260</td>\n",
              "      <td>-0.032498</td>\n",
              "      <td>1.000000</td>\n",
              "      <td>-0.540371</td>\n",
              "      <td>0.013068</td>\n",
              "      <td>-0.105672</td>\n",
              "      <td>0.476200</td>\n",
              "      <td>0.529141</td>\n",
              "    </tr>\n",
              "    <tr>\n",
              "      <th>odometer/mi</th>\n",
              "      <td>-0.777219</td>\n",
              "      <td>-0.030084</td>\n",
              "      <td>-0.001772</td>\n",
              "      <td>0.033408</td>\n",
              "      <td>-0.540371</td>\n",
              "      <td>1.000000</td>\n",
              "      <td>0.026899</td>\n",
              "      <td>0.170697</td>\n",
              "      <td>-0.587920</td>\n",
              "      <td>-0.580900</td>\n",
              "    </tr>\n",
              "    <tr>\n",
              "      <th>color</th>\n",
              "      <td>0.000426</td>\n",
              "      <td>-0.008882</td>\n",
              "      <td>-0.025853</td>\n",
              "      <td>-0.011277</td>\n",
              "      <td>0.013068</td>\n",
              "      <td>0.026899</td>\n",
              "      <td>1.000000</td>\n",
              "      <td>0.030132</td>\n",
              "      <td>-0.043646</td>\n",
              "      <td>-0.038656</td>\n",
              "    </tr>\n",
              "    <tr>\n",
              "      <th>interior</th>\n",
              "      <td>-0.191070</td>\n",
              "      <td>0.001877</td>\n",
              "      <td>0.022084</td>\n",
              "      <td>-0.031902</td>\n",
              "      <td>-0.105672</td>\n",
              "      <td>0.170697</td>\n",
              "      <td>0.030132</td>\n",
              "      <td>1.000000</td>\n",
              "      <td>-0.140924</td>\n",
              "      <td>-0.137056</td>\n",
              "    </tr>\n",
              "    <tr>\n",
              "      <th>mmr/$</th>\n",
              "      <td>0.592904</td>\n",
              "      <td>-0.058722</td>\n",
              "      <td>-0.106182</td>\n",
              "      <td>-0.045022</td>\n",
              "      <td>0.476200</td>\n",
              "      <td>-0.587920</td>\n",
              "      <td>-0.043646</td>\n",
              "      <td>-0.140924</td>\n",
              "      <td>1.000000</td>\n",
              "      <td>0.979783</td>\n",
              "    </tr>\n",
              "    <tr>\n",
              "      <th>sellingprice/$</th>\n",
              "      <td>0.581164</td>\n",
              "      <td>-0.055571</td>\n",
              "      <td>-0.106170</td>\n",
              "      <td>-0.049499</td>\n",
              "      <td>0.529141</td>\n",
              "      <td>-0.580900</td>\n",
              "      <td>-0.038656</td>\n",
              "      <td>-0.137056</td>\n",
              "      <td>0.979783</td>\n",
              "      <td>1.000000</td>\n",
              "    </tr>\n",
              "  </tbody>\n",
              "</table>\n",
              "</div>\n",
              "      <button class=\"colab-df-convert\" onclick=\"convertToInteractive('df-31e83d32-7920-4723-929a-75a4f530e243')\"\n",
              "              title=\"Convert this dataframe to an interactive table.\"\n",
              "              style=\"display:none;\">\n",
              "        \n",
              "  <svg xmlns=\"http://www.w3.org/2000/svg\" height=\"24px\"viewBox=\"0 0 24 24\"\n",
              "       width=\"24px\">\n",
              "    <path d=\"M0 0h24v24H0V0z\" fill=\"none\"/>\n",
              "    <path d=\"M18.56 5.44l.94 2.06.94-2.06 2.06-.94-2.06-.94-.94-2.06-.94 2.06-2.06.94zm-11 1L8.5 8.5l.94-2.06 2.06-.94-2.06-.94L8.5 2.5l-.94 2.06-2.06.94zm10 10l.94 2.06.94-2.06 2.06-.94-2.06-.94-.94-2.06-.94 2.06-2.06.94z\"/><path d=\"M17.41 7.96l-1.37-1.37c-.4-.4-.92-.59-1.43-.59-.52 0-1.04.2-1.43.59L10.3 9.45l-7.72 7.72c-.78.78-.78 2.05 0 2.83L4 21.41c.39.39.9.59 1.41.59.51 0 1.02-.2 1.41-.59l7.78-7.78 2.81-2.81c.8-.78.8-2.07 0-2.86zM5.41 20L4 18.59l7.72-7.72 1.47 1.35L5.41 20z\"/>\n",
              "  </svg>\n",
              "      </button>\n",
              "      \n",
              "  <style>\n",
              "    .colab-df-container {\n",
              "      display:flex;\n",
              "      flex-wrap:wrap;\n",
              "      gap: 12px;\n",
              "    }\n",
              "\n",
              "    .colab-df-convert {\n",
              "      background-color: #E8F0FE;\n",
              "      border: none;\n",
              "      border-radius: 50%;\n",
              "      cursor: pointer;\n",
              "      display: none;\n",
              "      fill: #1967D2;\n",
              "      height: 32px;\n",
              "      padding: 0 0 0 0;\n",
              "      width: 32px;\n",
              "    }\n",
              "\n",
              "    .colab-df-convert:hover {\n",
              "      background-color: #E2EBFA;\n",
              "      box-shadow: 0px 1px 2px rgba(60, 64, 67, 0.3), 0px 1px 3px 1px rgba(60, 64, 67, 0.15);\n",
              "      fill: #174EA6;\n",
              "    }\n",
              "\n",
              "    [theme=dark] .colab-df-convert {\n",
              "      background-color: #3B4455;\n",
              "      fill: #D2E3FC;\n",
              "    }\n",
              "\n",
              "    [theme=dark] .colab-df-convert:hover {\n",
              "      background-color: #434B5C;\n",
              "      box-shadow: 0px 1px 3px 1px rgba(0, 0, 0, 0.15);\n",
              "      filter: drop-shadow(0px 1px 2px rgba(0, 0, 0, 0.3));\n",
              "      fill: #FFFFFF;\n",
              "    }\n",
              "  </style>\n",
              "\n",
              "      <script>\n",
              "        const buttonEl =\n",
              "          document.querySelector('#df-31e83d32-7920-4723-929a-75a4f530e243 button.colab-df-convert');\n",
              "        buttonEl.style.display =\n",
              "          google.colab.kernel.accessAllowed ? 'block' : 'none';\n",
              "\n",
              "        async function convertToInteractive(key) {\n",
              "          const element = document.querySelector('#df-31e83d32-7920-4723-929a-75a4f530e243');\n",
              "          const dataTable =\n",
              "            await google.colab.kernel.invokeFunction('convertToInteractive',\n",
              "                                                     [key], {});\n",
              "          if (!dataTable) return;\n",
              "\n",
              "          const docLinkHtml = 'Like what you see? Visit the ' +\n",
              "            '<a target=\"_blank\" href=https://colab.research.google.com/notebooks/data_table.ipynb>data table notebook</a>'\n",
              "            + ' to learn more about interactive tables.';\n",
              "          element.innerHTML = '';\n",
              "          dataTable['output_type'] = 'display_data';\n",
              "          await google.colab.output.renderOutput(dataTable, element);\n",
              "          const docLink = document.createElement('div');\n",
              "          docLink.innerHTML = docLinkHtml;\n",
              "          element.appendChild(docLink);\n",
              "        }\n",
              "      </script>\n",
              "    </div>\n",
              "  </div>\n",
              "  "
            ]
          },
          "metadata": {},
          "execution_count": 76
        }
      ]
    },
    {
      "cell_type": "code",
      "source": [
        "# checking variable correlation through a heat map\n",
        "sns.heatmap(temp_encode.corr(), cmap='viridis', annot = True);"
      ],
      "metadata": {
        "colab": {
          "base_uri": "https://localhost:8080/",
          "height": 399
        },
        "id": "TehUxsFD3rUW",
        "outputId": "918c7f5f-0ebc-4b0c-c4aa-adcd02af0530"
      },
      "execution_count": null,
      "outputs": [
        {
          "output_type": "display_data",
          "data": {
            "text/plain": [
              "<Figure size 576x396 with 2 Axes>"
            ],
            "image/png": "[encoded data removed]"
          },
          "metadata": {}
        }
      ]
    },
    {
      "cell_type": "markdown",
      "source": [
        "We are dropping multiple columns for multiple reasons. The mmr column has a correlation with selling price that is too high, and that might lead to model over-fitting. The vin is the ID of the car, so it is not relevant to the model. Trim, saledate, seller and model have too many values to be able to see any viable correlation. State could have been a good attribute to have, but the meaning of the categories was not explained, so we cannot make any conclusions if we use them."
      ],
      "metadata": {
        "id": "2w1Y9CJt5t-T"
      }
    },
    {
      "cell_type": "code",
      "source": [
        "# dropping said columns\n",
        "temp_encode.drop('mmr/$', axis=1, inplace = True)\n",
        "temp_encode.drop('vin', axis=1, inplace = True)\n",
        "temp_encode.drop('trim', axis=1, inplace = True)\n",
        "temp_encode.drop('saledate', axis=1, inplace = True)\n",
        "temp_encode.drop('model', axis=1, inplace = True)\n",
        "temp_encode.drop('seller', axis=1, inplace = True)\n",
        "temp_encode.drop('state', axis=1, inplace = True)"
      ],
      "metadata": {
        "id": "D9xGQI4e4Gaf"
      },
      "execution_count": null,
      "outputs": []
    },
    {
      "cell_type": "code",
      "source": [
        "# checking that columns have been dropped\n",
        "temp_encode.info()"
      ],
      "metadata": {
        "colab": {
          "base_uri": "https://localhost:8080/"
        },
        "id": "0I9fJ1-f63Im",
        "outputId": "d47aa60f-7136-4dbd-baa4-de6abd8a3141"
      },
      "execution_count": null,
      "outputs": [
        {
          "output_type": "stream",
          "name": "stdout",
          "text": [
            "<class 'pandas.core.frame.DataFrame'>\n",
            "RangeIndex: 46578 entries, 0 to 46577\n",
            "Data columns (total 9 columns):\n",
            " #   Column          Non-Null Count  Dtype  \n",
            "---  ------          --------------  -----  \n",
            " 0   year            46578 non-null  int64  \n",
            " 1   make            46578 non-null  int64  \n",
            " 2   body            46578 non-null  int64  \n",
            " 3   transmission    46578 non-null  int64  \n",
            " 4   condition       46578 non-null  float64\n",
            " 5   odometer/mi     46578 non-null  float64\n",
            " 6   color           46578 non-null  int64  \n",
            " 7   interior        46578 non-null  int64  \n",
            " 8   sellingprice/$  46578 non-null  int64  \n",
            "dtypes: float64(2), int64(7)\n",
            "memory usage: 3.2 MB\n"
          ]
        }
      ]
    },
    {
      "cell_type": "code",
      "source": [
        "#min max normalization to reduce wide ranges of variables, such as odometer.\n",
        "\n",
        "numerical_columns = ['year', 'condition', 'odometer/mi', 'make', 'body', 'color', 'interior']\n",
        "\n",
        "\n",
        "temp_encode[numerical_columns] = ( \n",
        "    \n",
        "    temp_encode[numerical_columns] - temp_encode[numerical_columns].min()  \n",
        ") /( \n",
        "    \n",
        "    temp_encode[numerical_columns].max() - temp_encode[numerical_columns].min()\n",
        ")\n",
        "\n",
        "\n",
        "temp_encode.head()"
      ],
      "metadata": {
        "colab": {
          "base_uri": "https://localhost:8080/",
          "height": 206
        },
        "id": "Gn9DqIUe7n7a",
        "outputId": "29211b92-6a0f-462b-8124-ad30f3f40710"
      },
      "execution_count": null,
      "outputs": [
        {
          "output_type": "execute_result",
          "data": {
            "text/plain": [
              "   year      make      body  transmission  condition  odometer/mi     color  \\\n",
              "0  0.92  0.382979  0.857143             0      0.725     0.050403  0.105263   \n",
              "1  0.96  0.936170  0.714286             0      0.975     0.017845  0.421053   \n",
              "2  0.88  0.531915  0.857143             0      0.775     0.021121  0.842105   \n",
              "3  0.48  0.063830  0.714286             0      0.225     0.145302  0.105263   \n",
              "4  0.96  0.276596  0.428571             0      0.975     0.006713  0.947368   \n",
              "\n",
              "   interior  sellingprice/$  \n",
              "0    0.4375           10900  \n",
              "1    0.0000           29900  \n",
              "2    0.1250           24200  \n",
              "3    0.1250            3200  \n",
              "4    0.4375           22100  "
            ],
            "text/html": [
              "\n",
              "  <div id=\"df-ddbe98f2-d8ce-4f21-9561-c44d52354dcd\">\n",
              "    <div class=\"colab-df-container\">\n",
              "      <div>\n",
              "<style scoped>\n",
              "    .dataframe tbody tr th:only-of-type {\n",
              "        vertical-align: middle;\n",
              "    }\n",
              "\n",
              "    .dataframe tbody tr th {\n",
              "        vertical-align: top;\n",
              "    }\n",
              "\n",
              "    .dataframe thead th {\n",
              "        text-align: right;\n",
              "    }\n",
              "</style>\n",
              "<table border=\"1\" class=\"dataframe\">\n",
              "  <thead>\n",
              "    <tr style=\"text-align: right;\">\n",
              "      <th></th>\n",
              "      <th>year</th>\n",
              "      <th>make</th>\n",
              "      <th>body</th>\n",
              "      <th>transmission</th>\n",
              "      <th>condition</th>\n",
              "      <th>odometer/mi</th>\n",
              "      <th>color</th>\n",
              "      <th>interior</th>\n",
              "      <th>sellingprice/$</th>\n",
              "    </tr>\n",
              "  </thead>\n",
              "  <tbody>\n",
              "    <tr>\n",
              "      <th>0</th>\n",
              "      <td>0.92</td>\n",
              "      <td>0.382979</td>\n",
              "      <td>0.857143</td>\n",
              "      <td>0</td>\n",
              "      <td>0.725</td>\n",
              "      <td>0.050403</td>\n",
              "      <td>0.105263</td>\n",
              "      <td>0.4375</td>\n",
              "      <td>10900</td>\n",
              "    </tr>\n",
              "    <tr>\n",
              "      <th>1</th>\n",
              "      <td>0.96</td>\n",
              "      <td>0.936170</td>\n",
              "      <td>0.714286</td>\n",
              "      <td>0</td>\n",
              "      <td>0.975</td>\n",
              "      <td>0.017845</td>\n",
              "      <td>0.421053</td>\n",
              "      <td>0.0000</td>\n",
              "      <td>29900</td>\n",
              "    </tr>\n",
              "    <tr>\n",
              "      <th>2</th>\n",
              "      <td>0.88</td>\n",
              "      <td>0.531915</td>\n",
              "      <td>0.857143</td>\n",
              "      <td>0</td>\n",
              "      <td>0.775</td>\n",
              "      <td>0.021121</td>\n",
              "      <td>0.842105</td>\n",
              "      <td>0.1250</td>\n",
              "      <td>24200</td>\n",
              "    </tr>\n",
              "    <tr>\n",
              "      <th>3</th>\n",
              "      <td>0.48</td>\n",
              "      <td>0.063830</td>\n",
              "      <td>0.714286</td>\n",
              "      <td>0</td>\n",
              "      <td>0.225</td>\n",
              "      <td>0.145302</td>\n",
              "      <td>0.105263</td>\n",
              "      <td>0.1250</td>\n",
              "      <td>3200</td>\n",
              "    </tr>\n",
              "    <tr>\n",
              "      <th>4</th>\n",
              "      <td>0.96</td>\n",
              "      <td>0.276596</td>\n",
              "      <td>0.428571</td>\n",
              "      <td>0</td>\n",
              "      <td>0.975</td>\n",
              "      <td>0.006713</td>\n",
              "      <td>0.947368</td>\n",
              "      <td>0.4375</td>\n",
              "      <td>22100</td>\n",
              "    </tr>\n",
              "  </tbody>\n",
              "</table>\n",
              "</div>\n",
              "      <button class=\"colab-df-convert\" onclick=\"convertToInteractive('df-ddbe98f2-d8ce-4f21-9561-c44d52354dcd')\"\n",
              "              title=\"Convert this dataframe to an interactive table.\"\n",
              "              style=\"display:none;\">\n",
              "        \n",
              "  <svg xmlns=\"http://www.w3.org/2000/svg\" height=\"24px\"viewBox=\"0 0 24 24\"\n",
              "       width=\"24px\">\n",
              "    <path d=\"M0 0h24v24H0V0z\" fill=\"none\"/>\n",
              "    <path d=\"M18.56 5.44l.94 2.06.94-2.06 2.06-.94-2.06-.94-.94-2.06-.94 2.06-2.06.94zm-11 1L8.5 8.5l.94-2.06 2.06-.94-2.06-.94L8.5 2.5l-.94 2.06-2.06.94zm10 10l.94 2.06.94-2.06 2.06-.94-2.06-.94-.94-2.06-.94 2.06-2.06.94z\"/><path d=\"M17.41 7.96l-1.37-1.37c-.4-.4-.92-.59-1.43-.59-.52 0-1.04.2-1.43.59L10.3 9.45l-7.72 7.72c-.78.78-.78 2.05 0 2.83L4 21.41c.39.39.9.59 1.41.59.51 0 1.02-.2 1.41-.59l7.78-7.78 2.81-2.81c.8-.78.8-2.07 0-2.86zM5.41 20L4 18.59l7.72-7.72 1.47 1.35L5.41 20z\"/>\n",
              "  </svg>\n",
              "      </button>\n",
              "      \n",
              "  <style>\n",
              "    .colab-df-container {\n",
              "      display:flex;\n",
              "      flex-wrap:wrap;\n",
              "      gap: 12px;\n",
              "    }\n",
              "\n",
              "    .colab-df-convert {\n",
              "      background-color: #E8F0FE;\n",
              "      border: none;\n",
              "      border-radius: 50%;\n",
              "      cursor: pointer;\n",
              "      display: none;\n",
              "      fill: #1967D2;\n",
              "      height: 32px;\n",
              "      padding: 0 0 0 0;\n",
              "      width: 32px;\n",
              "    }\n",
              "\n",
              "    .colab-df-convert:hover {\n",
              "      background-color: #E2EBFA;\n",
              "      box-shadow: 0px 1px 2px rgba(60, 64, 67, 0.3), 0px 1px 3px 1px rgba(60, 64, 67, 0.15);\n",
              "      fill: #174EA6;\n",
              "    }\n",
              "\n",
              "    [theme=dark] .colab-df-convert {\n",
              "      background-color: #3B4455;\n",
              "      fill: #D2E3FC;\n",
              "    }\n",
              "\n",
              "    [theme=dark] .colab-df-convert:hover {\n",
              "      background-color: #434B5C;\n",
              "      box-shadow: 0px 1px 3px 1px rgba(0, 0, 0, 0.15);\n",
              "      filter: drop-shadow(0px 1px 2px rgba(0, 0, 0, 0.3));\n",
              "      fill: #FFFFFF;\n",
              "    }\n",
              "  </style>\n",
              "\n",
              "      <script>\n",
              "        const buttonEl =\n",
              "          document.querySelector('#df-ddbe98f2-d8ce-4f21-9561-c44d52354dcd button.colab-df-convert');\n",
              "        buttonEl.style.display =\n",
              "          google.colab.kernel.accessAllowed ? 'block' : 'none';\n",
              "\n",
              "        async function convertToInteractive(key) {\n",
              "          const element = document.querySelector('#df-ddbe98f2-d8ce-4f21-9561-c44d52354dcd');\n",
              "          const dataTable =\n",
              "            await google.colab.kernel.invokeFunction('convertToInteractive',\n",
              "                                                     [key], {});\n",
              "          if (!dataTable) return;\n",
              "\n",
              "          const docLinkHtml = 'Like what you see? Visit the ' +\n",
              "            '<a target=\"_blank\" href=https://colab.research.google.com/notebooks/data_table.ipynb>data table notebook</a>'\n",
              "            + ' to learn more about interactive tables.';\n",
              "          element.innerHTML = '';\n",
              "          dataTable['output_type'] = 'display_data';\n",
              "          await google.colab.output.renderOutput(dataTable, element);\n",
              "          const docLink = document.createElement('div');\n",
              "          docLink.innerHTML = docLinkHtml;\n",
              "          element.appendChild(docLink);\n",
              "        }\n",
              "      </script>\n",
              "    </div>\n",
              "  </div>\n",
              "  "
            ]
          },
          "metadata": {},
          "execution_count": 81
        }
      ]
    },
    {
      "cell_type": "markdown",
      "source": [
        "## Train-Test Split"
      ],
      "metadata": {
        "id": "RQq0HS_s9PXx"
      }
    },
    {
      "cell_type": "code",
      "source": [
        "#split into 80% train, and 20% test\n",
        "from sklearn.model_selection import train_test_split\n",
        "\n",
        "x = temp_encode.drop('sellingprice/$',axis=1)\n",
        "y = temp_encode['sellingprice/$']\n",
        "\n",
        "x_train, x_test, y_train, y_test = train_test_split(x,y,test_size=0.2,random_state=23)\n",
        "\n",
        "print('Training dataset size:', x_train.shape[0])\n",
        "print('Testing dataset size:', x_test.shape[0])"
      ],
      "metadata": {
        "colab": {
          "base_uri": "https://localhost:8080/"
        },
        "id": "Tbw9Q7Io9QCx",
        "outputId": "df2aeb9c-9129-485b-8ed4-75f3741afb91"
      },
      "execution_count": null,
      "outputs": [
        {
          "output_type": "stream",
          "name": "stdout",
          "text": [
            "Training dataset size: 37262\n",
            "Testing dataset size: 9316\n"
          ]
        }
      ]
    },
    {
      "cell_type": "markdown",
      "metadata": {
        "id": "V2sanpZ12OO1"
      },
      "source": [
        "## Modelling\n",
        "\n",
        "_Apply the linear regression model below._"
      ]
    },
    {
      "cell_type": "code",
      "source": [
        "from sklearn.linear_model import LinearRegression\n",
        "\n",
        "lin_reg = LinearRegression()\n",
        "\n",
        "lin_reg.fit(x_train, y_train);"
      ],
      "metadata": {
        "id": "fm0bKdbb8Ekr"
      },
      "execution_count": null,
      "outputs": []
    },
    {
      "cell_type": "code",
      "source": [
        "parameter = ['theta_0'] + ['theta_{}'.format(i+1) for i in range(x.shape[1])]\n",
        "columns = ['y-intersect'] + list(x.columns.values)\n",
        "sk_theta = pd.Series([lin_reg.intercept_] + list(lin_reg.coef_))\n",
        "\n",
        "parameter_df = pd.DataFrame({'parameter':parameter,'column':columns, 'theta_value': sk_theta})\n",
        "parameter_df"
      ],
      "metadata": {
        "colab": {
          "base_uri": "https://localhost:8080/",
          "height": 332
        },
        "id": "kcMc82w14FjN",
        "outputId": "55b472c1-6301-4e87-9190-baeb4bfddeac"
      },
      "execution_count": null,
      "outputs": [
        {
          "output_type": "execute_result",
          "data": {
            "text/plain": [
              "  parameter        column   theta_value\n",
              "0   theta_0   y-intersect   3083.149488\n",
              "1   theta_1          year  15240.068385\n",
              "2   theta_2          make  -1715.999940\n",
              "3   theta_3          body  -4750.694389\n",
              "4   theta_4  transmission  -1288.049217\n",
              "5   theta_5     condition  10320.089219\n",
              "6   theta_6   odometer/mi -46839.678488\n",
              "7   theta_7         color  -1100.352674\n",
              "8   theta_8      interior   -728.363388"
            ],
            "text/html": [
              "\n",
              "  <div id=\"df-0adf7a57-c729-4d3d-ab50-47c87e85f748\">\n",
              "    <div class=\"colab-df-container\">\n",
              "      <div>\n",
              "<style scoped>\n",
              "    .dataframe tbody tr th:only-of-type {\n",
              "        vertical-align: middle;\n",
              "    }\n",
              "\n",
              "    .dataframe tbody tr th {\n",
              "        vertical-align: top;\n",
              "    }\n",
              "\n",
              "    .dataframe thead th {\n",
              "        text-align: right;\n",
              "    }\n",
              "</style>\n",
              "<table border=\"1\" class=\"dataframe\">\n",
              "  <thead>\n",
              "    <tr style=\"text-align: right;\">\n",
              "      <th></th>\n",
              "      <th>parameter</th>\n",
              "      <th>column</th>\n",
              "      <th>theta_value</th>\n",
              "    </tr>\n",
              "  </thead>\n",
              "  <tbody>\n",
              "    <tr>\n",
              "      <th>0</th>\n",
              "      <td>theta_0</td>\n",
              "      <td>y-intersect</td>\n",
              "      <td>3083.149488</td>\n",
              "    </tr>\n",
              "    <tr>\n",
              "      <th>1</th>\n",
              "      <td>theta_1</td>\n",
              "      <td>year</td>\n",
              "      <td>15240.068385</td>\n",
              "    </tr>\n",
              "    <tr>\n",
              "      <th>2</th>\n",
              "      <td>theta_2</td>\n",
              "      <td>make</td>\n",
              "      <td>-1715.999940</td>\n",
              "    </tr>\n",
              "    <tr>\n",
              "      <th>3</th>\n",
              "      <td>theta_3</td>\n",
              "      <td>body</td>\n",
              "      <td>-4750.694389</td>\n",
              "    </tr>\n",
              "    <tr>\n",
              "      <th>4</th>\n",
              "      <td>theta_4</td>\n",
              "      <td>transmission</td>\n",
              "      <td>-1288.049217</td>\n",
              "    </tr>\n",
              "    <tr>\n",
              "      <th>5</th>\n",
              "      <td>theta_5</td>\n",
              "      <td>condition</td>\n",
              "      <td>10320.089219</td>\n",
              "    </tr>\n",
              "    <tr>\n",
              "      <th>6</th>\n",
              "      <td>theta_6</td>\n",
              "      <td>odometer/mi</td>\n",
              "      <td>-46839.678488</td>\n",
              "    </tr>\n",
              "    <tr>\n",
              "      <th>7</th>\n",
              "      <td>theta_7</td>\n",
              "      <td>color</td>\n",
              "      <td>-1100.352674</td>\n",
              "    </tr>\n",
              "    <tr>\n",
              "      <th>8</th>\n",
              "      <td>theta_8</td>\n",
              "      <td>interior</td>\n",
              "      <td>-728.363388</td>\n",
              "    </tr>\n",
              "  </tbody>\n",
              "</table>\n",
              "</div>\n",
              "      <button class=\"colab-df-convert\" onclick=\"convertToInteractive('df-0adf7a57-c729-4d3d-ab50-47c87e85f748')\"\n",
              "              title=\"Convert this dataframe to an interactive table.\"\n",
              "              style=\"display:none;\">\n",
              "        \n",
              "  <svg xmlns=\"http://www.w3.org/2000/svg\" height=\"24px\"viewBox=\"0 0 24 24\"\n",
              "       width=\"24px\">\n",
              "    <path d=\"M0 0h24v24H0V0z\" fill=\"none\"/>\n",
              "    <path d=\"M18.56 5.44l.94 2.06.94-2.06 2.06-.94-2.06-.94-.94-2.06-.94 2.06-2.06.94zm-11 1L8.5 8.5l.94-2.06 2.06-.94-2.06-.94L8.5 2.5l-.94 2.06-2.06.94zm10 10l.94 2.06.94-2.06 2.06-.94-2.06-.94-.94-2.06-.94 2.06-2.06.94z\"/><path d=\"M17.41 7.96l-1.37-1.37c-.4-.4-.92-.59-1.43-.59-.52 0-1.04.2-1.43.59L10.3 9.45l-7.72 7.72c-.78.78-.78 2.05 0 2.83L4 21.41c.39.39.9.59 1.41.59.51 0 1.02-.2 1.41-.59l7.78-7.78 2.81-2.81c.8-.78.8-2.07 0-2.86zM5.41 20L4 18.59l7.72-7.72 1.47 1.35L5.41 20z\"/>\n",
              "  </svg>\n",
              "      </button>\n",
              "      \n",
              "  <style>\n",
              "    .colab-df-container {\n",
              "      display:flex;\n",
              "      flex-wrap:wrap;\n",
              "      gap: 12px;\n",
              "    }\n",
              "\n",
              "    .colab-df-convert {\n",
              "      background-color: #E8F0FE;\n",
              "      border: none;\n",
              "      border-radius: 50%;\n",
              "      cursor: pointer;\n",
              "      display: none;\n",
              "      fill: #1967D2;\n",
              "      height: 32px;\n",
              "      padding: 0 0 0 0;\n",
              "      width: 32px;\n",
              "    }\n",
              "\n",
              "    .colab-df-convert:hover {\n",
              "      background-color: #E2EBFA;\n",
              "      box-shadow: 0px 1px 2px rgba(60, 64, 67, 0.3), 0px 1px 3px 1px rgba(60, 64, 67, 0.15);\n",
              "      fill: #174EA6;\n",
              "    }\n",
              "\n",
              "    [theme=dark] .colab-df-convert {\n",
              "      background-color: #3B4455;\n",
              "      fill: #D2E3FC;\n",
              "    }\n",
              "\n",
              "    [theme=dark] .colab-df-convert:hover {\n",
              "      background-color: #434B5C;\n",
              "      box-shadow: 0px 1px 3px 1px rgba(0, 0, 0, 0.15);\n",
              "      filter: drop-shadow(0px 1px 2px rgba(0, 0, 0, 0.3));\n",
              "      fill: #FFFFFF;\n",
              "    }\n",
              "  </style>\n",
              "\n",
              "      <script>\n",
              "        const buttonEl =\n",
              "          document.querySelector('#df-0adf7a57-c729-4d3d-ab50-47c87e85f748 button.colab-df-convert');\n",
              "        buttonEl.style.display =\n",
              "          google.colab.kernel.accessAllowed ? 'block' : 'none';\n",
              "\n",
              "        async function convertToInteractive(key) {\n",
              "          const element = document.querySelector('#df-0adf7a57-c729-4d3d-ab50-47c87e85f748');\n",
              "          const dataTable =\n",
              "            await google.colab.kernel.invokeFunction('convertToInteractive',\n",
              "                                                     [key], {});\n",
              "          if (!dataTable) return;\n",
              "\n",
              "          const docLinkHtml = 'Like what you see? Visit the ' +\n",
              "            '<a target=\"_blank\" href=https://colab.research.google.com/notebooks/data_table.ipynb>data table notebook</a>'\n",
              "            + ' to learn more about interactive tables.';\n",
              "          element.innerHTML = '';\n",
              "          dataTable['output_type'] = 'display_data';\n",
              "          await google.colab.output.renderOutput(dataTable, element);\n",
              "          const docLink = document.createElement('div');\n",
              "          docLink.innerHTML = docLinkHtml;\n",
              "          element.appendChild(docLink);\n",
              "        }\n",
              "      </script>\n",
              "    </div>\n",
              "  </div>\n",
              "  "
            ]
          },
          "metadata": {},
          "execution_count": 84
        }
      ]
    },
    {
      "cell_type": "markdown",
      "source": [
        "With this information, we can represent the model using the multiple linear regression formula. Prediction is done by substituting the variables with their corresponding values.\n",
        "\n",
        "$$\\mathbf{Y_i = -3083.149488 + 15240.068385(year) - 1715.999940(make) - 4750.694389(body) - 1288.049217 (transmission) + 10320.089219 (condition) - 46839.678488 (odometer/mi) - 1100.352674 (color) - 728.363388 (interior)}$$"
      ],
      "metadata": {
        "id": "yGlF0z9D_P_X"
      }
    },
    {
      "cell_type": "markdown",
      "metadata": {
        "id": "joj-qIWa2OO1"
      },
      "source": [
        "## Model Evaluation\n",
        "\n",
        "_Evaluate the model you applied._"
      ]
    },
    {
      "cell_type": "code",
      "execution_count": null,
      "metadata": {
        "id": "lH3Geg3M2OO1",
        "colab": {
          "base_uri": "https://localhost:8080/"
        },
        "outputId": "ea87c003-0b94-4b0a-8e7b-d64b96fc288c"
      },
      "outputs": [
        {
          "output_type": "stream",
          "name": "stdout",
          "text": [
            "The root mean square error (RMSE) is:  7106.0732507440525\n",
            "R^2 obtained is: 0.45344094856863526\n"
          ]
        }
      ],
      "source": [
        "# sklearn regression module\n",
        "y_pred = lin_reg.predict(x_test)\n",
        "\n",
        "# Evaluation\n",
        "from sklearn.metrics import mean_squared_error\n",
        "rmse = mean_squared_error(y_pred, y_test, squared=False)\n",
        "\n",
        "# R_square\n",
        "R_square = lin_reg.score(x_test,y_test)\n",
        "print('The root mean square error (RMSE) is: ', rmse)\n",
        "print('R^2 obtained is:', R_square)"
      ]
    },
    {
      "cell_type": "markdown",
      "metadata": {
        "id": "4_uOQ7V02OO2"
      },
      "source": [
        "## Conclusion and Recommendations\n",
        "\n",
        "Comment on the model accuracy and your findings from model evaluation and validation. State the problems (if any) and suggest possible solutions. Would you recommend this model for a used cars dealership that wants to get reliable estimates for used car prices?\n",
        "\n",
        "**Answer**: $R^2$ is 0.45. It is not a particularly high R^2 value, but it would have to be compared with the industry standard to be able to evaluate whether this value is good or not. The RMSE is 7016. This number is a bit too high in this context, because $7000 in the price of one car is a big difference.\n",
        "\n",
        "One of the problems of this dataset is the presence of outliers in multiple attributes. This can be particularly observed in the odometer vs selling price as well as the make vs selling price visualisations. These outliers need to be dealt with to provide a more accurate model.\n",
        "\n",
        "Another problem with this dataset is that the values in specific columns are not sufficiently explained, such as state, and this leads to uselessness of the coefficient of these attributes because we cannot interpret them. A more detailed explanation of the values within the dataset needs to be provided.\n",
        "\n",
        "No, we would not recommend this model until these issues mentioned above have been solved."
      ]
    }
  ],
  "metadata": {
    "kernelspec": {
      "display_name": "Python 3.8.10 64-bit (microsoft store)",
      "language": "python",
      "name": "python3"
    },
    "language_info": {
      "codemirror_mode": {
        "name": "ipython",
        "version": 3
      },
      "file_extension": ".py",
      "mimetype": "text/x-python",
      "name": "python",
      "nbconvert_exporter": "python",
      "pygments_lexer": "ipython3",
      "version": "3.8.10"
    },
    "vscode": {
      "interpreter": {
        "hash": "53838b41801d6340687d97fd6c2932a6cda47cc00efb016738355d36a9d1dd3a"
      }
    },
    "colab": {
      "provenance": [],
      "collapsed_sections": [],
      "include_colab_link": true
    }
  },
  "nbformat": 4,
  "nbformat_minor": 0
}